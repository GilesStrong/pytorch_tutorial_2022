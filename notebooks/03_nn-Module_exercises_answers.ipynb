{
 "cells": [
  {
   "cell_type": "code",
   "execution_count": 2,
   "id": "ccc4e6a6",
   "metadata": {},
   "outputs": [],
   "source": [
    "%matplotlib inline\n",
    "%reload_ext autoreload\n",
    "%autoreload 2"
   ]
  },
  {
   "cell_type": "code",
   "execution_count": 3,
   "id": "af1a810b",
   "metadata": {},
   "outputs": [],
   "source": [
    "import torch\n",
    "from torch import Tensor, nn"
   ]
  },
  {
   "cell_type": "markdown",
   "id": "95e96f0a",
   "metadata": {},
   "source": [
    "Below, implement an `nn.Module` class that can provide a DNN that takes in 3 features and returns a single, sigmoided output, after passing through several layers of linear and activation layers."
   ]
  },
  {
   "cell_type": "code",
   "execution_count": 4,
   "id": "f507c5d8",
   "metadata": {},
   "outputs": [],
   "source": [
    "class DNN(nn.Module):\n",
    "    def __init__(self, sizes=[3,10,10,1]):\n",
    "        super().__init__()\n",
    "        self.layers = nn.Sequential(*[self.get_layer(sizes[i], sizes[i+1]) for i in range(len(sizes)-2)])\n",
    "        self.out_layer = self.get_layer(sizes[-2], sizes[-1], out_layer=True)\n",
    "\n",
    "    @staticmethod\n",
    "    def get_layer(nin, nout, out_layer=False):\n",
    "        lin = nn.Linear(nin, nout)\n",
    "        if out_layer:\n",
    "            nn.init.xavier_normal_(lin.weight)\n",
    "            act = nn.Sigmoid()\n",
    "        else:\n",
    "            nn.init.kaiming_normal_(lin.weight, nonlinearity='relu')\n",
    "            act = nn.ReLU()\n",
    "        nn.init.zeros_(lin.bias)\n",
    "        \n",
    "        return nn.Sequential(lin, act)\n",
    "    \n",
    "    def forward(self, x):\n",
    "        x = self.layers(x)\n",
    "        return self.out_layer(x)"
   ]
  },
  {
   "cell_type": "code",
   "execution_count": 5,
   "id": "5fc854d1",
   "metadata": {},
   "outputs": [],
   "source": [
    "dnn = DNN()\n",
    "x = torch.randn(100,3)"
   ]
  },
  {
   "cell_type": "code",
   "execution_count": 8,
   "id": "3b725c48",
   "metadata": {},
   "outputs": [],
   "source": [
    "preds = dnn(x)\n",
    "assert preds.shape == torch.Size([100,1])\n",
    "assert (preds >= 0).all()\n",
    "assert (preds <= 1).all()"
   ]
  }
 ],
 "metadata": {
  "kernelspec": {
   "display_name": "Python [conda env:pytorch_tutorial_2022]",
   "language": "python",
   "name": "conda-env-pytorch_tutorial_2022-py"
  },
  "language_info": {
   "codemirror_mode": {
    "name": "ipython",
    "version": 3
   },
   "file_extension": ".py",
   "mimetype": "text/x-python",
   "name": "python",
   "nbconvert_exporter": "python",
   "pygments_lexer": "ipython3",
   "version": "3.8.0"
  },
  "toc": {
   "base_numbering": 1,
   "nav_menu": {},
   "number_sections": true,
   "sideBar": true,
   "skip_h1_title": false,
   "title_cell": "Table of Contents",
   "title_sidebar": "Contents",
   "toc_cell": false,
   "toc_position": {},
   "toc_section_display": true,
   "toc_window_display": false
  }
 },
 "nbformat": 4,
 "nbformat_minor": 5
}
