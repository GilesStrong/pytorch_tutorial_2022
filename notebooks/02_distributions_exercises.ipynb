{
 "cells": [
  {
   "cell_type": "code",
   "execution_count": null,
   "id": "ccc4e6a6",
   "metadata": {},
   "outputs": [],
   "source": [
    "%matplotlib inline\n",
    "%reload_ext autoreload\n",
    "%autoreload 2"
   ]
  },
  {
   "cell_type": "code",
   "execution_count": null,
   "id": "46b68e0a",
   "metadata": {},
   "outputs": [],
   "source": [
    "import torch\n",
    "from torch import Tensor, distributions\n",
    "\n",
    "import matplotlib.pyplot as plt\n",
    "import seaborn as sns"
   ]
  },
  {
   "cell_type": "markdown",
   "id": "ea03db83",
   "metadata": {},
   "source": [
    "In this exercise, we'll look at how we can use distributions to form differentiable density-estimation methods. "
   ]
  },
  {
   "cell_type": "markdown",
   "id": "1ebbe2d3",
   "metadata": {},
   "source": [
    "## Sampling\n",
    "Let's first get a differentiable sample of points. Below, create two parameters, `concentration` and `rate`, both initialised at 2, and use these to instantiate a `Gamma` distribution."
   ]
  },
  {
   "cell_type": "code",
   "execution_count": null,
   "id": "b234a0b8",
   "metadata": {},
   "outputs": [],
   "source": [
    "# your code here"
   ]
  },
  {
   "cell_type": "markdown",
   "id": "49b0d0a3",
   "metadata": {},
   "source": [
    "Now sample 100 points from the `Gamma` into a tensor called `samples`."
   ]
  },
  {
   "cell_type": "code",
   "execution_count": null,
   "id": "5ae9169d",
   "metadata": {},
   "outputs": [],
   "source": [
    "# you code here"
   ]
  },
  {
   "cell_type": "code",
   "execution_count": null,
   "id": "b4ed384b",
   "metadata": {},
   "outputs": [],
   "source": [
    "assert torch.autograd.grad(samples.mean(), concentration, retain_graph=True)[0].abs() > 0"
   ]
  },
  {
   "cell_type": "markdown",
   "id": "4aacbd15",
   "metadata": {},
   "source": [
    "## KDE\n",
    "Now we'll plot their KDE (kernel density estimate). This is done using a standard method, which doesn't account for the gradient function on the samples."
   ]
  },
  {
   "cell_type": "code",
   "execution_count": null,
   "id": "a0bab3e3",
   "metadata": {},
   "outputs": [],
   "source": [
    "sns.kdeplot(samples.detach())"
   ]
  },
  {
   "cell_type": "markdown",
   "id": "be3085c7",
   "metadata": {},
   "source": [
    "Now we'll create our own, differentiable KDE for our sample. KDEs are formed by seeding Gaussians of a set scale (bandwidth) at each point in the sample, and taking their mean PDF at a range of points.\n",
    "\n",
    "Below compute the KDE values, `y`, using a `Normal` distribution, for a range of points, `x`, for the given bandwidth."
   ]
  },
  {
   "cell_type": "code",
   "execution_count": null,
   "id": "31f9f43b",
   "metadata": {},
   "outputs": [],
   "source": [
    "bandwidth = 0.25\n",
    "x = torch.linspace(0,4, 50)"
   ]
  },
  {
   "cell_type": "code",
   "execution_count": null,
   "id": "d4211c3b",
   "metadata": {},
   "outputs": [],
   "source": [
    "# Your code here"
   ]
  },
  {
   "cell_type": "code",
   "execution_count": null,
   "id": "4bcaeb02",
   "metadata": {},
   "outputs": [],
   "source": [
    "assert y.shape==torch.Size([50])\n",
    "assert torch.autograd.grad(y.mean(), concentration, retain_graph=True)[0].abs() > 0"
   ]
  },
  {
   "cell_type": "markdown",
   "id": "e710bc67",
   "metadata": {},
   "source": [
    "And now we'll plot them below. The result should be similar to the plot above."
   ]
  },
  {
   "cell_type": "code",
   "execution_count": null,
   "id": "b44829f7",
   "metadata": {},
   "outputs": [],
   "source": [
    "plt.plot(x,y.detach())"
   ]
  },
  {
   "cell_type": "markdown",
   "id": "5adc1432",
   "metadata": {},
   "source": [
    "## Histogram\n",
    "Quite often in HEP, and other fields, we like to work with histograms, but in the standard implementation, the bin fills are not differentiable: samples either lie in a given bin and contribute 1 to the bin population, or lie outside and contribute 0.\n",
    "\n",
    "Using our `Normal` distribution, it becomes possible to compute a differentiable histogram. Have a think about how to do this (hint: use the `.cdf` method)."
   ]
  },
  {
   "cell_type": "code",
   "execution_count": null,
   "id": "da07e178",
   "metadata": {},
   "outputs": [],
   "source": [
    "# your code here"
   ]
  },
  {
   "cell_type": "code",
   "execution_count": null,
   "id": "313fdbb0",
   "metadata": {},
   "outputs": [],
   "source": [
    "assert torch.autograd.grad(bin_fills.mean(), concentration, retain_graph=True)[0].abs() > 0"
   ]
  },
  {
   "cell_type": "code",
   "execution_count": null,
   "id": "170640f3",
   "metadata": {},
   "outputs": [],
   "source": [
    "plt.bar(x[:-1], bin_fills.detach())"
   ]
  }
 ],
 "metadata": {
  "kernelspec": {
   "display_name": "Python [conda env:pytorch_tutorial_2022]",
   "language": "python",
   "name": "conda-env-pytorch_tutorial_2022-py"
  },
  "language_info": {
   "codemirror_mode": {
    "name": "ipython",
    "version": 3
   },
   "file_extension": ".py",
   "mimetype": "text/x-python",
   "name": "python",
   "nbconvert_exporter": "python",
   "pygments_lexer": "ipython3",
   "version": "3.8.0"
  },
  "toc": {
   "base_numbering": 1,
   "nav_menu": {},
   "number_sections": true,
   "sideBar": true,
   "skip_h1_title": false,
   "title_cell": "Table of Contents",
   "title_sidebar": "Contents",
   "toc_cell": false,
   "toc_position": {},
   "toc_section_display": true,
   "toc_window_display": false
  }
 },
 "nbformat": 4,
 "nbformat_minor": 5
}
