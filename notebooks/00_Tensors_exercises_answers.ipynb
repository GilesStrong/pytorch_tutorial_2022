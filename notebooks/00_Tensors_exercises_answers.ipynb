{
 "cells": [
  {
   "cell_type": "code",
   "execution_count": 1,
   "id": "ccc4e6a6",
   "metadata": {},
   "outputs": [],
   "source": [
    "%matplotlib inline\n",
    "%reload_ext autoreload\n",
    "%autoreload 2"
   ]
  },
  {
   "cell_type": "code",
   "execution_count": 2,
   "id": "350792d8",
   "metadata": {},
   "outputs": [],
   "source": [
    "import torch\n",
    "from torch import Tensor\n",
    "\n",
    "from typing import *\n",
    "import matplotlib.pyplot as plt\n",
    "import seaborn as sns"
   ]
  },
  {
   "cell_type": "code",
   "execution_count": 3,
   "id": "97afebd0",
   "metadata": {},
   "outputs": [],
   "source": [
    "import warnings\n",
    "warnings.filterwarnings('ignore')"
   ]
  },
  {
   "cell_type": "markdown",
   "id": "735b019a",
   "metadata": {},
   "source": [
    "In this set of exercises, we'll be building up towards a tensor that holds the kinematic properties of a batch of muons, that move in 3D."
   ]
  },
  {
   "cell_type": "markdown",
   "id": "05825e75",
   "metadata": {},
   "source": [
    "## Initial sampling\n",
    "### Position\n",
    "First, create a (100,3) tensor, called `muons`, of initial positions for 100 muons in (x,y,z), such that `x~Uniform[0,10]`, `y~Uniform[0,5]`, and `z=8`."
   ]
  },
  {
   "cell_type": "code",
   "execution_count": 4,
   "id": "5962a468",
   "metadata": {},
   "outputs": [],
   "source": [
    "# your code goes here"
   ]
  },
  {
   "cell_type": "code",
   "execution_count": 5,
   "id": "fddc85a8",
   "metadata": {},
   "outputs": [],
   "source": [
    "n_muons = 100\n",
    "muons = torch.rand(n_muons,3)\n",
    "muons[:,0] *= 10\n",
    "muons[:,1] *= 5\n",
    "muons[:,2] = 8"
   ]
  },
  {
   "cell_type": "code",
   "execution_count": 6,
   "id": "dede4aad",
   "metadata": {},
   "outputs": [
    {
     "data": {
      "text/plain": [
       "<matplotlib.legend.Legend at 0x7fba8eecfc10>"
      ]
     },
     "execution_count": 6,
     "metadata": {},
     "output_type": "execute_result"
    },
    {
     "data": {
      "image/png": "[encoded data removed]",
      "text/plain": [
       "<Figure size 640x480 with 1 Axes>"
      ]
     },
     "metadata": {},
     "output_type": "display_data"
    }
   ],
   "source": [
    "sns.distplot(muons[:,0], label='x', kde=False, norm_hist=True)\n",
    "sns.distplot(muons[:,1], label='y', kde=False, norm_hist=True)\n",
    "plt.legend()"
   ]
  },
  {
   "cell_type": "code",
   "execution_count": 7,
   "id": "662ed954",
   "metadata": {},
   "outputs": [],
   "source": [
    "assert (muons > 0).all()\n",
    "assert (muons[:,0] < 10).all()\n",
    "assert (muons[:,1] < 5).all()\n",
    "assert (muons[:,2] == 8).all()\n",
    "assert len(muons) == 100"
   ]
  },
  {
   "cell_type": "markdown",
   "id": "529286ef",
   "metadata": {},
   "source": [
    "### Angle\n",
    "Now include in the muon tensor the theta and phi angle of the direction of travel of the muon. Theta is the angle from the positive direction of the z-axis, $\\theta\\sim[0,\\pi)$, and phi is the azimuthal angle in the xy plane, starting from the positive x-axis and increasing towards the positive y-axis, $\\phi\\sim[0,2\\pi)$, as shown below:\n",
    "\n",
    "<img src=\"imgs/3D_Spherical.svg.png\" width=\"20%\"/>\n",
    "\n",
    "*Image by [Andeggs - Own work, Public Domain](https://commons.wikimedia.org/w/index.php?curid=7478049)*\n",
    "\n",
    "The phi angle should be sampled uniformly, and theta should be sampled according to the absolute value of a Gaussian with mean zero and sigma pi/4.\n",
    "The final `muons` tensor should be of shape (10,5) corresponding to (x,y,z,theta,phi)."
   ]
  },
  {
   "cell_type": "code",
   "execution_count": 8,
   "id": "40bb14d5",
   "metadata": {},
   "outputs": [],
   "source": [
    "# your code goes here"
   ]
  },
  {
   "cell_type": "code",
   "execution_count": 9,
   "id": "56b97914",
   "metadata": {},
   "outputs": [],
   "source": [
    "theta = torch.abs(torch.randn(len(muons),1)*torch.pi/4).clamp_max(torch.pi)\n",
    "phi = torch.rand(len(muons),1)*2*torch.pi"
   ]
  },
  {
   "cell_type": "code",
   "execution_count": 10,
   "id": "00d03207",
   "metadata": {},
   "outputs": [],
   "source": [
    "muons = torch.cat((muons, theta, phi), dim=-1)"
   ]
  },
  {
   "cell_type": "code",
   "execution_count": 11,
   "id": "e78fa213",
   "metadata": {},
   "outputs": [
    {
     "data": {
      "text/plain": [
       "<matplotlib.legend.Legend at 0x7fba8f1fae20>"
      ]
     },
     "execution_count": 11,
     "metadata": {},
     "output_type": "execute_result"
    },
    {
     "data": {
      "image/png": "[encoded data removed]",
      "text/plain": [
       "<Figure size 640x480 with 1 Axes>"
      ]
     },
     "metadata": {},
     "output_type": "display_data"
    }
   ],
   "source": [
    "sns.distplot(muons[:,-2], label='theta', kde=False, norm_hist=True)\n",
    "sns.distplot(muons[:,-1], label='phi', kde=False, norm_hist=True)\n",
    "plt.legend()"
   ]
  },
  {
   "cell_type": "code",
   "execution_count": 12,
   "id": "bbadf21b",
   "metadata": {},
   "outputs": [],
   "source": [
    "assert (muons > 0).all()\n",
    "assert (muons[:,3] < torch.pi).all()\n",
    "assert (muons[:,4] < 2*torch.pi).all()\n",
    "assert len(muons) == 100"
   ]
  },
  {
   "cell_type": "markdown",
   "id": "d7900db0",
   "metadata": {},
   "source": [
    "## Propagation\n",
    "Write a function that will update the muon positions after they have all travelled a certain distance along their direction of travel. The distance can either be the same for every muon (provided as a float), or each muon can be provided with its own distance travel, in the form of a (100,1) tensor.\n",
    "\n",
    "Decomposing a distance r in spherical coordinates to Cartesian coordinates is:\n",
    "$$z = r\\cos\\theta$$\n",
    "$$x = r\\sin\\theta\\cos\\phi$$\n",
    "$$y = r\\sin\\theta\\sin\\phi$$\n",
    "\n",
    "The `propagate` function should update the muon positions internally, rather that returning the distances travelled."
   ]
  },
  {
   "cell_type": "code",
   "execution_count": 13,
   "id": "55227b74",
   "metadata": {},
   "outputs": [],
   "source": [
    "def propagate(muons:Tensor, distances:Union[float,Tensor]) -> None:\n",
    "    # your code goes here\n",
    "    \n",
    "    muons[:,2] = muons[:,2]+(distances*torch.cos(muons[:,3]))\n",
    "    rst = distances*torch.sin(muons[:,3])\n",
    "    muons[:,0] = muons[:,0]+(rst*torch.cos(muons[:,4]))    \n",
    "    muons[:,1] = muons[:,1]+(rst*torch.sin(muons[:,4]))      "
   ]
  },
  {
   "cell_type": "code",
   "execution_count": 14,
   "id": "4136666c",
   "metadata": {},
   "outputs": [],
   "source": [
    "test = Tensor([[0,0,0,0,0], [0,0,0,torch.pi/4,0], [0,0,0,torch.pi/2,torch.pi*3/4], [0,0,0,torch.pi*3/4,torch.pi/2]])"
   ]
  },
  {
   "cell_type": "code",
   "execution_count": 15,
   "id": "5a4ae83b",
   "metadata": {},
   "outputs": [],
   "source": [
    "propagate(test, 1)"
   ]
  },
  {
   "cell_type": "code",
   "execution_count": 16,
   "id": "d72eecd9",
   "metadata": {},
   "outputs": [],
   "source": [
    "assert ((test - Tensor([[ 0.0000e+00,  0.0000e+00,  1.0000e+00,  0.0000e+00,  0.0000e+00],\n",
    "        [ 7.0711e-01,  0.0000e+00,  7.0711e-01,  7.8540e-01,  0.0000e+00],\n",
    "        [-7.0711e-01,  7.0711e-01, -4.3711e-08,  1.5708e+00,  2.3562e+00],\n",
    "        [-3.0909e-08,  7.0711e-01, -7.0711e-01,  2.3562e+00,  1.5708e+00]])).abs() < 1e-3).all()"
   ]
  },
  {
   "cell_type": "code",
   "execution_count": 17,
   "id": "59da632a",
   "metadata": {},
   "outputs": [],
   "source": [
    "propagate(test, Tensor([0,1,-2,3.5]))"
   ]
  },
  {
   "cell_type": "code",
   "execution_count": 18,
   "id": "4bc10313",
   "metadata": {},
   "outputs": [],
   "source": [
    "assert ((test - Tensor([[ 0.0000e+00,  0.0000e+00,  1.0000e+00,  0.0000e+00,  0.0000e+00],\n",
    "        [ 1.4142e+00,  0.0000e+00,  1.4142e+00,  7.8540e-01,  0.0000e+00],\n",
    "        [ 7.0711e-01, -7.0711e-01,  4.3711e-08,  1.5708e+00,  2.3562e+00],\n",
    "        [-1.3909e-07,  3.1820e+00, -3.1820e+00,  2.3562e+00,  1.5708e+00]])).abs() < 1e-3).all()"
   ]
  },
  {
   "cell_type": "markdown",
   "id": "0e031843",
   "metadata": {},
   "source": [
    "## Masking\n",
    "Use Boolean masking to remove any muons with a theta angle greater than of equal to pi/2."
   ]
  },
  {
   "cell_type": "code",
   "execution_count": 20,
   "id": "9afe163e",
   "metadata": {},
   "outputs": [],
   "source": [
    "# your code goes here"
   ]
  },
  {
   "cell_type": "code",
   "execution_count": 21,
   "id": "90ec9b92",
   "metadata": {},
   "outputs": [],
   "source": [
    "muons = muons[muons[:,3] < torch.pi/2]"
   ]
  },
  {
   "cell_type": "code",
   "execution_count": 23,
   "id": "bcde19f2",
   "metadata": {},
   "outputs": [
    {
     "data": {
      "text/plain": [
       "95"
      ]
     },
     "execution_count": 23,
     "metadata": {},
     "output_type": "execute_result"
    }
   ],
   "source": [
    "len(muons)"
   ]
  },
  {
   "cell_type": "markdown",
   "id": "d55146a6",
   "metadata": {},
   "source": [
    "Now compute the mean values of all the muon properties"
   ]
  },
  {
   "cell_type": "code",
   "execution_count": 24,
   "id": "952621cb",
   "metadata": {},
   "outputs": [],
   "source": [
    "# your code goes here"
   ]
  },
  {
   "cell_type": "code",
   "execution_count": 25,
   "id": "3bfaa8f4",
   "metadata": {},
   "outputs": [
    {
     "data": {
      "text/plain": [
       "tensor([5.2920, 2.5366, 8.0000, 0.5297, 2.9780])"
      ]
     },
     "execution_count": 25,
     "metadata": {},
     "output_type": "execute_result"
    }
   ],
   "source": [
    "muons.mean(0)"
   ]
  }
 ],
 "metadata": {
  "kernelspec": {
   "display_name": "Python [conda env:pytorch_tutorial_2022]",
   "language": "python",
   "name": "conda-env-pytorch_tutorial_2022-py"
  },
  "language_info": {
   "codemirror_mode": {
    "name": "ipython",
    "version": 3
   },
   "file_extension": ".py",
   "mimetype": "text/x-python",
   "name": "python",
   "nbconvert_exporter": "python",
   "pygments_lexer": "ipython3",
   "version": "3.8.0"
  },
  "toc": {
   "base_numbering": 1,
   "nav_menu": {},
   "number_sections": true,
   "sideBar": true,
   "skip_h1_title": false,
   "title_cell": "Table of Contents",
   "title_sidebar": "Contents",
   "toc_cell": false,
   "toc_position": {},
   "toc_section_display": true,
   "toc_window_display": false
  }
 },
 "nbformat": 4,
 "nbformat_minor": 5
}
