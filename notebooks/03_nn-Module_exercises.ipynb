{
 "cells": [
  {
   "cell_type": "code",
   "execution_count": null,
   "id": "ccc4e6a6",
   "metadata": {},
   "outputs": [],
   "source": [
    "%matplotlib inline\n",
    "%reload_ext autoreload\n",
    "%autoreload 2"
   ]
  },
  {
   "cell_type": "code",
   "execution_count": null,
   "id": "af1a810b",
   "metadata": {},
   "outputs": [],
   "source": [
    "import torch\n",
    "from torch import Tensor, nn"
   ]
  },
  {
   "cell_type": "markdown",
   "id": "52ac5e85",
   "metadata": {},
   "source": [
    "##  Linear layer\n",
    "PyTorch provides a linear layer class, but the action it performs is relatively simple. Below provide your own implementation of a linear-layer class:"
   ]
  },
  {
   "cell_type": "code",
   "execution_count": null,
   "id": "577e53b2",
   "metadata": {},
   "outputs": [],
   "source": [
    "class MyLinear(nn.Module):\n",
    "    # your code here"
   ]
  },
  {
   "cell_type": "code",
   "execution_count": null,
   "id": "5283f41b",
   "metadata": {},
   "outputs": [],
   "source": [
    "lin = MyLinear(2,5)\n",
    "x = torch.randn(10,2)\n",
    "y = lin(x)"
   ]
  },
  {
   "cell_type": "code",
   "execution_count": null,
   "id": "cbb49412",
   "metadata": {},
   "outputs": [],
   "source": [
    "assert y.shape == torch.Size([10,5])"
   ]
  },
  {
   "cell_type": "markdown",
   "id": "991acdbd",
   "metadata": {},
   "source": [
    "## Full DNN"
   ]
  },
  {
   "cell_type": "markdown",
   "id": "95e96f0a",
   "metadata": {},
   "source": [
    "Below, implement an `nn.Module` class that can provide a DNN that takes in 3 features and returns a single, sigmoided output, after passing through several layers of linear and activation layers."
   ]
  },
  {
   "cell_type": "code",
   "execution_count": null,
   "id": "f507c5d8",
   "metadata": {},
   "outputs": [],
   "source": [
    "class DNN(nn.Module):\n",
    "    # your code here"
   ]
  },
  {
   "cell_type": "code",
   "execution_count": null,
   "id": "5fc854d1",
   "metadata": {},
   "outputs": [],
   "source": [
    "dnn = DNN()\n",
    "x = torch.randn(100,3)"
   ]
  },
  {
   "cell_type": "code",
   "execution_count": null,
   "id": "3b725c48",
   "metadata": {},
   "outputs": [],
   "source": [
    "preds = dnn(x)\n",
    "assert preds.shape == torch.Size([100,1])\n",
    "assert (preds >= 0).all()\n",
    "assert (preds <= 1).all()"
   ]
  }
 ],
 "metadata": {
  "kernelspec": {
   "display_name": "Python [conda env:pytorch_tutorial_2022]",
   "language": "python",
   "name": "conda-env-pytorch_tutorial_2022-py"
  },
  "language_info": {
   "codemirror_mode": {
    "name": "ipython",
    "version": 3
   },
   "file_extension": ".py",
   "mimetype": "text/x-python",
   "name": "python",
   "nbconvert_exporter": "python",
   "pygments_lexer": "ipython3",
   "version": "3.8.0"
  },
  "toc": {
   "base_numbering": 1,
   "nav_menu": {},
   "number_sections": true,
   "sideBar": true,
   "skip_h1_title": false,
   "title_cell": "Table of Contents",
   "title_sidebar": "Contents",
   "toc_cell": false,
   "toc_position": {},
   "toc_section_display": true,
   "toc_window_display": false
  }
 },
 "nbformat": 4,
 "nbformat_minor": 5
}
