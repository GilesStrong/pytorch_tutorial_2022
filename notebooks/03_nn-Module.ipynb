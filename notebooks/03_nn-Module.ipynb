{
 "cells": [
  {
   "cell_type": "code",
   "execution_count": 1,
   "id": "ccc4e6a6",
   "metadata": {},
   "outputs": [],
   "source": [
    "%matplotlib inline\n",
    "%reload_ext autoreload\n",
    "%autoreload 2"
   ]
  },
  {
   "cell_type": "code",
   "execution_count": 2,
   "id": "af1a810b",
   "metadata": {},
   "outputs": [],
   "source": [
    "import torch\n",
    "from torch import Tensor, nn"
   ]
  },
  {
   "cell_type": "markdown",
   "id": "98dff7a5",
   "metadata": {},
   "source": [
    "## NN module\n",
    "The `NN` module contains classes, functions, and other modules for creating neural networks from smaller building blocks. The majority of classes inherit from `nn.Module`, which provides a lot of functionality for tracking learnable parameters and acting on inputted tensors.\n",
    "\n",
    "A class inheriting from `nn.Module` will have a:\n",
    "- `forward()` method, where it can act on incoming tensors. The `__call__` method will call the `forward` method, meaning that once instantiated, the object can be called, in order to call it's `forward` method, e.g. `my_module(x)` will pass `x` to `my_module.forward(x)` and return the output.\n",
    "- `parameters()` method, which is a provides a recursive generator that yields all `nn.Parameter`s stored by the `Module` and any other `nn.Module`s it stores\n",
    "- `state_dict()` method, which returns a dictionary of the current values of all `nn.Parameter`s and registered buffers stored by the `Module` and any other `nn.Module`s it stores\n",
    "- `to()` method, which will recursively place all other `nn.Module`s and `nn.Parameter`s stored by the `Module` onto the specified device\n",
    "\n",
    "\n",
    "### nn.Parameter\n",
    "`nn.Parameter`s are basically just `Tensor`s with `require_grad=True`, except that when they are declared as attributes of an `nn.Module`, they will be treated specially. E.g. they are returned by the `parameters()` generator, and stored in the `state_dict`. As we'll see later, optimsiers in PyTorch are initialised using the `parameters()` generator, so `nn.Parameter`s will therefore be updated by gradient descent. Additionally, loading and saving of a `nn.Module` is done via its `state_dict`, so the values of `nn.Parameter`s will be loaded and saved, too."
   ]
  },
  {
   "cell_type": "code",
   "execution_count": 3,
   "id": "1030a5aa",
   "metadata": {},
   "outputs": [],
   "source": [
    "class MyModule(nn.Module):\n",
    "    def __init__(self):\n",
    "        super().__init__()  # The super constructor must always be called, otherwise no parameters can be assigned\n",
    "        self.tensor_a = torch.tensor([3.], requires_grad=True)  # here we declare a tensor with gradient\n",
    "        self.param_b = nn.Parameter(torch.tensor([2.]))  # here we declare a parameter with gradient"
   ]
  },
  {
   "cell_type": "code",
   "execution_count": 4,
   "id": "5858b55c",
   "metadata": {},
   "outputs": [],
   "source": [
    "module = MyModule()"
   ]
  },
  {
   "cell_type": "code",
   "execution_count": 5,
   "id": "0bf272ca",
   "metadata": {},
   "outputs": [
    {
     "data": {
      "text/plain": [
       "[Parameter containing:\n",
       " tensor([2.], requires_grad=True)]"
      ]
     },
     "execution_count": 5,
     "metadata": {},
     "output_type": "execute_result"
    }
   ],
   "source": [
    "list(module.parameters())  # note that only param_b is listed, tensor_a is ignored"
   ]
  },
  {
   "cell_type": "code",
   "execution_count": 6,
   "id": "e66097f6",
   "metadata": {},
   "outputs": [
    {
     "data": {
      "text/plain": [
       "OrderedDict([('param_b', tensor([2.]))])"
      ]
     },
     "execution_count": 6,
     "metadata": {},
     "output_type": "execute_result"
    }
   ],
   "source": [
    "module.state_dict()  # similarly, only param_b is listed"
   ]
  },
  {
   "cell_type": "markdown",
   "id": "c468e444",
   "metadata": {},
   "source": [
    "Parameters can also be included as `nn.ParameterList` and `nn.ParameterDict` classes, which act similarly to lists and dictionaries, except that they will also be identified as parameters of the module."
   ]
  },
  {
   "cell_type": "markdown",
   "id": "97bfdeb5",
   "metadata": {},
   "source": [
    "### Buffers\n",
    "Sometimes we have values that we want to keep constant during optimisation, but also want to be included in the `state_dict` such that they can be easily loaded and saved. Such values can be registered as *buffers*:"
   ]
  },
  {
   "cell_type": "code",
   "execution_count": 7,
   "id": "f0dbbceb",
   "metadata": {},
   "outputs": [],
   "source": [
    "class MyModule(nn.Module):\n",
    "    def __init__(self, value):\n",
    "        super().__init__()\n",
    "        self.tensor_a = torch.tensor([3.], requires_grad=True)\n",
    "        self.param_b = nn.Parameter(torch.tensor([2.]))\n",
    "        self.register_buffer('buffer_c', value)  # register the buffer with a given name"
   ]
  },
  {
   "cell_type": "code",
   "execution_count": 8,
   "id": "e13892cc",
   "metadata": {},
   "outputs": [],
   "source": [
    "module = MyModule(Tensor([-1]))"
   ]
  },
  {
   "cell_type": "code",
   "execution_count": 9,
   "id": "520c1cb8",
   "metadata": {},
   "outputs": [
    {
     "data": {
      "text/plain": [
       "[Parameter containing:\n",
       " tensor([2.], requires_grad=True)]"
      ]
     },
     "execution_count": 9,
     "metadata": {},
     "output_type": "execute_result"
    }
   ],
   "source": [
    "list(module.parameters())  # buffer_c isn't included as a parameter"
   ]
  },
  {
   "cell_type": "code",
   "execution_count": 10,
   "id": "e83a29e6",
   "metadata": {},
   "outputs": [
    {
     "data": {
      "text/plain": [
       "OrderedDict([('param_b', tensor([2.])), ('buffer_c', tensor([-1.]))])"
      ]
     },
     "execution_count": 10,
     "metadata": {},
     "output_type": "execute_result"
    }
   ],
   "source": [
    "module.state_dict()  # but is included in the state dict"
   ]
  },
  {
   "cell_type": "code",
   "execution_count": 11,
   "id": "9d37a0cf",
   "metadata": {},
   "outputs": [
    {
     "data": {
      "text/plain": [
       "tensor([-1.])"
      ]
     },
     "execution_count": 11,
     "metadata": {},
     "output_type": "execute_result"
    }
   ],
   "source": [
    "module.buffer_c  # the buffer appears as an attribute with the name that was provided when it was registered"
   ]
  },
  {
   "cell_type": "markdown",
   "id": "4e200c22",
   "metadata": {},
   "source": [
    "## Common classes\n",
    "There are many different classes implemented in PyTorch. See https://pytorch.org/docs/stable/nn.html for the full list. Described below are a few common examples."
   ]
  },
  {
   "cell_type": "markdown",
   "id": "b9c2c90e",
   "metadata": {},
   "source": [
    "### Linear layers\n",
    "\n",
    "A common class is `nn.Linear`, which implements the linear transform `w.x+b`, where `w` and `b` are learnable parameters. These can be used for the \"hidden\" layers in feed-forward DNNs"
   ]
  },
  {
   "cell_type": "code",
   "execution_count": 12,
   "id": "8edb43e3",
   "metadata": {},
   "outputs": [],
   "source": [
    "lin = nn.Linear(in_features=4, out_features=6)  # the layer expects 4 features in and will output 6 features"
   ]
  },
  {
   "cell_type": "code",
   "execution_count": 13,
   "id": "d389cc82",
   "metadata": {},
   "outputs": [
    {
     "data": {
      "text/plain": [
       "OrderedDict([('weight',\n",
       "              tensor([[-0.4148, -0.0767, -0.4162,  0.3248],\n",
       "                      [ 0.2116, -0.0338, -0.4803, -0.0719],\n",
       "                      [-0.1532,  0.0357,  0.0993, -0.3531],\n",
       "                      [-0.4223,  0.0337,  0.4757,  0.2106],\n",
       "                      [ 0.4832,  0.2941, -0.3082, -0.1026],\n",
       "                      [ 0.1516, -0.0272,  0.4565, -0.2877]])),\n",
       "             ('bias',\n",
       "              tensor([ 0.3766,  0.3292,  0.1382,  0.4352,  0.1774, -0.0696]))])"
      ]
     },
     "execution_count": 13,
     "metadata": {},
     "output_type": "execute_result"
    }
   ],
   "source": [
    "lin.state_dict()  # it has a weight (6,4) and a bias (6), which are intialised at random"
   ]
  },
  {
   "cell_type": "code",
   "execution_count": 14,
   "id": "42d69e7a",
   "metadata": {},
   "outputs": [
    {
     "data": {
      "text/plain": [
       "(torch.Size([10, 6]), <AddmmBackward0 at 0x7fb69fed7610>)"
      ]
     },
     "execution_count": 14,
     "metadata": {},
     "output_type": "execute_result"
    }
   ],
   "source": [
    "x = torch.randn(10,4)\n",
    "x = lin(x)  # this calls the forward method of the linear layer, which applies the linear transformation to the incoming x tensor\n",
    "x.shape, x.grad_fn  # note that the linear transform was broadcast across the first dimension of x, and that x now has a grad function"
   ]
  },
  {
   "cell_type": "markdown",
   "id": "82865d42",
   "metadata": {},
   "source": [
    "### Activation layers\n",
    "Sometimes, the classes don't have any learnable parameters, but it is more convenient to treat them as `nn.Module`s. Activation functions are typical examples:"
   ]
  },
  {
   "cell_type": "code",
   "execution_count": 15,
   "id": "05bb6441",
   "metadata": {},
   "outputs": [
    {
     "data": {
      "text/plain": [
       "OrderedDict()"
      ]
     },
     "execution_count": 15,
     "metadata": {},
     "output_type": "execute_result"
    }
   ],
   "source": [
    "act = nn.ReLU()\n",
    "act.state_dict()"
   ]
  },
  {
   "cell_type": "code",
   "execution_count": 16,
   "id": "0767eab4",
   "metadata": {},
   "outputs": [
    {
     "data": {
      "text/plain": [
       "tensor([[0.0000, 0.6011, 0.4731, 0.0000, 1.2012, 0.0174],\n",
       "        [0.1432, 1.0412, 0.3407, 0.0000, 0.8050, 0.0000],\n",
       "        [0.4012, 0.0000, 0.0143, 1.1460, 0.0000, 0.2359],\n",
       "        [1.0377, 0.1786, 0.5834, 0.8358, 0.0000, 0.0000],\n",
       "        [0.0000, 0.0000, 0.0000, 0.8740, 0.0025, 0.2736],\n",
       "        [1.1782, 1.1063, 0.0000, 0.0000, 0.1309, 0.0000],\n",
       "        [0.4244, 0.0000, 0.0000, 1.4880, 0.0000, 0.0387],\n",
       "        [0.0000, 0.0000, 0.6371, 1.6151, 0.0000, 0.4471],\n",
       "        [0.0000, 0.8299, 0.0000, 0.0000, 1.6888, 0.0000],\n",
       "        [0.7403, 0.8747, 0.1704, 0.0000, 1.0006, 0.0000]],\n",
       "       grad_fn=<ReluBackward0>)"
      ]
     },
     "execution_count": 16,
     "metadata": {},
     "output_type": "execute_result"
    }
   ],
   "source": [
    "act(x)"
   ]
  },
  {
   "cell_type": "markdown",
   "id": "b1348bde",
   "metadata": {},
   "source": [
    "See https://pytorch.org/docs/stable/nn.html#non-linear-activations-weighted-sum-nonlinearity for the full list of activation functions implemented in PyTorch"
   ]
  },
  {
   "cell_type": "markdown",
   "id": "352a5bfb",
   "metadata": {},
   "source": [
    "### Sequential\n",
    "Above, we took some data and passed it through a linear layer and then through an activation function. This is a very common action in a neural network. Sometimes it can be convenient to group together layers and modules into an `nn.Sequential` class, which takes multiple `nn.Module`s and when its `forward` method is called, it will feed the input to the first module and then sequentially feed the output into the next module, and so on, finally returning the output of the last module"
   ]
  },
  {
   "cell_type": "code",
   "execution_count": 17,
   "id": "924d96c8",
   "metadata": {},
   "outputs": [],
   "source": [
    "lin_act = nn.Sequential(lin, act)"
   ]
  },
  {
   "cell_type": "code",
   "execution_count": 18,
   "id": "c36d2570",
   "metadata": {},
   "outputs": [
    {
     "data": {
      "text/plain": [
       "tensor([[1.3807e+00, 7.3050e-01, 1.9314e-01, 2.8503e-01, 2.8928e-01, 0.0000e+00],\n",
       "        [0.0000e+00, 0.0000e+00, 6.3162e-01, 7.5493e-01, 2.8447e-01, 6.5368e-01],\n",
       "        [5.0934e-01, 3.4157e-01, 0.0000e+00, 4.7379e-01, 3.3435e-01, 0.0000e+00],\n",
       "        [0.0000e+00, 3.5082e-01, 1.0966e-03, 2.1265e-01, 5.4601e-01, 2.3216e-01],\n",
       "        [0.0000e+00, 1.8708e-01, 2.3001e-01, 4.2887e-01, 0.0000e+00, 4.1373e-01],\n",
       "        [9.2773e-01, 5.5664e-02, 1.6467e-01, 9.8114e-01, 0.0000e+00, 0.0000e+00],\n",
       "        [2.6894e-01, 5.0144e-01, 5.4058e-01, 1.7945e-01, 3.9264e-01, 1.3366e-02],\n",
       "        [0.0000e+00, 2.9057e-01, 2.3775e-01, 3.2878e-01, 0.0000e+00, 3.2577e-01],\n",
       "        [9.4376e-01, 2.2823e-01, 7.9454e-01, 7.4341e-01, 0.0000e+00, 0.0000e+00],\n",
       "        [0.0000e+00, 3.7771e-01, 0.0000e+00, 2.6012e-02, 8.9576e-01, 4.1871e-01]],\n",
       "       grad_fn=<ReluBackward0>)"
      ]
     },
     "execution_count": 18,
     "metadata": {},
     "output_type": "execute_result"
    }
   ],
   "source": [
    "lin_act(torch.randn(10,4))"
   ]
  },
  {
   "cell_type": "code",
   "execution_count": 19,
   "id": "a3abb333",
   "metadata": {},
   "outputs": [
    {
     "data": {
      "text/plain": [
       "OrderedDict([('0.weight',\n",
       "              tensor([[-0.4148, -0.0767, -0.4162,  0.3248],\n",
       "                      [ 0.2116, -0.0338, -0.4803, -0.0719],\n",
       "                      [-0.1532,  0.0357,  0.0993, -0.3531],\n",
       "                      [-0.4223,  0.0337,  0.4757,  0.2106],\n",
       "                      [ 0.4832,  0.2941, -0.3082, -0.1026],\n",
       "                      [ 0.1516, -0.0272,  0.4565, -0.2877]])),\n",
       "             ('0.bias',\n",
       "              tensor([ 0.3766,  0.3292,  0.1382,  0.4352,  0.1774, -0.0696]))])"
      ]
     },
     "execution_count": 19,
     "metadata": {},
     "output_type": "execute_result"
    }
   ],
   "source": [
    "lin_act.state_dict()  # the parameters of the linear layer are still contained in the state_dict o the sequential module"
   ]
  },
  {
   "cell_type": "markdown",
   "id": "b0fa97b8",
   "metadata": {},
   "source": [
    "### Module lists and dicts\n",
    "Similar to `nn.ParameterList` and `nn.ParameterDict`, `nn.ModuleList` and `nn.ModuleDict` can be used to contain multiple modules and have them be recognised by the parent `nn.Module` as modules:"
   ]
  },
  {
   "cell_type": "code",
   "execution_count": 20,
   "id": "cc065649",
   "metadata": {},
   "outputs": [],
   "source": [
    "mlist= nn.ModuleList([lin, act])"
   ]
  },
  {
   "cell_type": "code",
   "execution_count": 21,
   "id": "a7f6c6b7",
   "metadata": {},
   "outputs": [
    {
     "data": {
      "text/plain": [
       "True"
      ]
     },
     "execution_count": 21,
     "metadata": {},
     "output_type": "execute_result"
    }
   ],
   "source": [
    "isinstance(mlist, nn.Module)"
   ]
  },
  {
   "cell_type": "code",
   "execution_count": 22,
   "id": "01b65ea6",
   "metadata": {},
   "outputs": [
    {
     "ename": "NotImplementedError",
     "evalue": "Module [ModuleList] is missing the required \"forward\" function",
     "output_type": "error",
     "traceback": [
      "\u001b[0;31m---------------------------------------------------------------------------\u001b[0m",
      "\u001b[0;31mNotImplementedError\u001b[0m                       Traceback (most recent call last)",
      "Cell \u001b[0;32mIn [22], line 1\u001b[0m\n\u001b[0;32m----> 1\u001b[0m \u001b[43mmlist\u001b[49m\u001b[43m(\u001b[49m\u001b[43mx\u001b[49m\u001b[43m)\u001b[49m  \u001b[38;5;66;03m# does not act like a Sequential\u001b[39;00m\n",
      "File \u001b[0;32m~/anaconda3/envs/pytorch_tutorial_2022/lib/python3.8/site-packages/torch/nn/modules/module.py:1190\u001b[0m, in \u001b[0;36mModule._call_impl\u001b[0;34m(self, *input, **kwargs)\u001b[0m\n\u001b[1;32m   1186\u001b[0m \u001b[38;5;66;03m# If we don't have any hooks, we want to skip the rest of the logic in\u001b[39;00m\n\u001b[1;32m   1187\u001b[0m \u001b[38;5;66;03m# this function, and just call forward.\u001b[39;00m\n\u001b[1;32m   1188\u001b[0m \u001b[38;5;28;01mif\u001b[39;00m \u001b[38;5;129;01mnot\u001b[39;00m (\u001b[38;5;28mself\u001b[39m\u001b[38;5;241m.\u001b[39m_backward_hooks \u001b[38;5;129;01mor\u001b[39;00m \u001b[38;5;28mself\u001b[39m\u001b[38;5;241m.\u001b[39m_forward_hooks \u001b[38;5;129;01mor\u001b[39;00m \u001b[38;5;28mself\u001b[39m\u001b[38;5;241m.\u001b[39m_forward_pre_hooks \u001b[38;5;129;01mor\u001b[39;00m _global_backward_hooks\n\u001b[1;32m   1189\u001b[0m         \u001b[38;5;129;01mor\u001b[39;00m _global_forward_hooks \u001b[38;5;129;01mor\u001b[39;00m _global_forward_pre_hooks):\n\u001b[0;32m-> 1190\u001b[0m     \u001b[38;5;28;01mreturn\u001b[39;00m \u001b[43mforward_call\u001b[49m\u001b[43m(\u001b[49m\u001b[38;5;241;43m*\u001b[39;49m\u001b[38;5;28;43minput\u001b[39;49m\u001b[43m,\u001b[49m\u001b[43m \u001b[49m\u001b[38;5;241;43m*\u001b[39;49m\u001b[38;5;241;43m*\u001b[39;49m\u001b[43mkwargs\u001b[49m\u001b[43m)\u001b[49m\n\u001b[1;32m   1191\u001b[0m \u001b[38;5;66;03m# Do not call functions when jit is used\u001b[39;00m\n\u001b[1;32m   1192\u001b[0m full_backward_hooks, non_full_backward_hooks \u001b[38;5;241m=\u001b[39m [], []\n",
      "File \u001b[0;32m~/anaconda3/envs/pytorch_tutorial_2022/lib/python3.8/site-packages/torch/nn/modules/module.py:244\u001b[0m, in \u001b[0;36m_forward_unimplemented\u001b[0;34m(self, *input)\u001b[0m\n\u001b[1;32m    233\u001b[0m \u001b[38;5;28;01mdef\u001b[39;00m \u001b[38;5;21m_forward_unimplemented\u001b[39m(\u001b[38;5;28mself\u001b[39m, \u001b[38;5;241m*\u001b[39m\u001b[38;5;28minput\u001b[39m: Any) \u001b[38;5;241m-\u001b[39m\u001b[38;5;241m>\u001b[39m \u001b[38;5;28;01mNone\u001b[39;00m:\n\u001b[1;32m    234\u001b[0m     \u001b[38;5;124mr\u001b[39m\u001b[38;5;124;03m\"\"\"Defines the computation performed at every call.\u001b[39;00m\n\u001b[1;32m    235\u001b[0m \n\u001b[1;32m    236\u001b[0m \u001b[38;5;124;03m    Should be overridden by all subclasses.\u001b[39;00m\n\u001b[0;32m   (...)\u001b[0m\n\u001b[1;32m    242\u001b[0m \u001b[38;5;124;03m        registered hooks while the latter silently ignores them.\u001b[39;00m\n\u001b[1;32m    243\u001b[0m \u001b[38;5;124;03m    \"\"\"\u001b[39;00m\n\u001b[0;32m--> 244\u001b[0m     \u001b[38;5;28;01mraise\u001b[39;00m \u001b[38;5;167;01mNotImplementedError\u001b[39;00m(\u001b[38;5;124mf\u001b[39m\u001b[38;5;124m\"\u001b[39m\u001b[38;5;124mModule [\u001b[39m\u001b[38;5;132;01m{\u001b[39;00m\u001b[38;5;28mtype\u001b[39m(\u001b[38;5;28mself\u001b[39m)\u001b[38;5;241m.\u001b[39m\u001b[38;5;18m__name__\u001b[39m\u001b[38;5;132;01m}\u001b[39;00m\u001b[38;5;124m] is missing the required \u001b[39m\u001b[38;5;130;01m\\\"\u001b[39;00m\u001b[38;5;124mforward\u001b[39m\u001b[38;5;130;01m\\\"\u001b[39;00m\u001b[38;5;124m function\u001b[39m\u001b[38;5;124m\"\u001b[39m)\n",
      "\u001b[0;31mNotImplementedError\u001b[0m: Module [ModuleList] is missing the required \"forward\" function"
     ]
    }
   ],
   "source": [
    "mlist(x)  # does not act like a Sequential"
   ]
  },
  {
   "cell_type": "code",
   "execution_count": 23,
   "id": "5545fb57",
   "metadata": {},
   "outputs": [
    {
     "data": {
      "text/plain": [
       "tensor([[0.3164, 0.3684, 0.0000, 0.3805, 0.6748, 0.0000],\n",
       "        [0.2212, 0.0958, 0.0000, 0.6889, 0.2064, 0.0025],\n",
       "        [0.0000, 0.0178, 0.0300, 0.6268, 0.3265, 0.3645],\n",
       "        [0.2917, 0.0000, 0.0000, 0.8613, 0.0167, 0.0012],\n",
       "        [0.0000, 0.0000, 0.0000, 0.7378, 0.4767, 0.1339],\n",
       "        [0.0000, 0.2813, 0.0000, 0.3501, 0.6843, 0.1061],\n",
       "        [0.1327, 0.0000, 0.0000, 0.7980, 0.0554, 0.1386],\n",
       "        [0.2633, 0.0000, 0.0000, 0.8758, 0.1623, 0.0000],\n",
       "        [0.3105, 0.0335, 0.0074, 0.7968, 0.0000, 0.0321],\n",
       "        [0.2800, 0.0278, 0.0000, 0.7994, 0.1069, 0.0000]],\n",
       "       grad_fn=<ReluBackward0>)"
      ]
     },
     "execution_count": 23,
     "metadata": {},
     "output_type": "execute_result"
    }
   ],
   "source": [
    "x = torch.rand(10,4)\n",
    "for m in mlist: x = m(x)  # but can be iterated through\n",
    "x"
   ]
  },
  {
   "cell_type": "markdown",
   "id": "86eb684c",
   "metadata": {},
   "source": [
    "## Fowards pass\n",
    "When building a new module, it is necessary to implement the forwards pass, which defines how the parameters and child modules will affect the incoming tensors. When dealing with high-level PyTorch, the backwards pass will be automatically implemented."
   ]
  },
  {
   "cell_type": "code",
   "execution_count": 24,
   "id": "186c1447",
   "metadata": {},
   "outputs": [],
   "source": [
    "class LinAct(nn.Module):\n",
    "    def __init__(self, nin, nout):\n",
    "        super().__init__()\n",
    "        self.lin = nn.Linear(nin, nout)\n",
    "        self.act = nn.ReLU()\n",
    "        \n",
    "    def forward(self, x):\n",
    "        x = self.lin(x)\n",
    "        x = self.act(x)\n",
    "        return x"
   ]
  },
  {
   "cell_type": "code",
   "execution_count": 25,
   "id": "cd006bef",
   "metadata": {},
   "outputs": [],
   "source": [
    "lin_act = LinAct(2,4)"
   ]
  },
  {
   "cell_type": "code",
   "execution_count": 26,
   "id": "149505c4",
   "metadata": {},
   "outputs": [
    {
     "data": {
      "text/plain": [
       "tensor([[0.7515, 0.9448, 0.4860, 0.0000],\n",
       "        [0.7264, 0.0000, 0.3230, 0.0000],\n",
       "        [0.0744, 0.1151, 0.0000, 0.0000],\n",
       "        [0.9014, 0.0000, 0.5478, 0.0000],\n",
       "        [0.2433, 1.8337, 0.0000, 0.8897]], grad_fn=<ReluBackward0>)"
      ]
     },
     "execution_count": 26,
     "metadata": {},
     "output_type": "execute_result"
    }
   ],
   "source": [
    "x = torch.randn(5,2)\n",
    "lin_act(x)"
   ]
  },
  {
   "cell_type": "code",
   "execution_count": 27,
   "id": "85a96bb5",
   "metadata": {},
   "outputs": [
    {
     "data": {
      "text/plain": [
       "OrderedDict([('lin.weight',\n",
       "              tensor([[-0.4735, -0.1305],\n",
       "                      [ 0.1630, -0.6295],\n",
       "                      [-0.5533, -0.2001],\n",
       "                      [ 0.6462, -0.2662]])),\n",
       "             ('lin.bias', tensor([ 0.3504,  0.0600, -0.0548, -0.4007]))])"
      ]
     },
     "execution_count": 27,
     "metadata": {},
     "output_type": "execute_result"
    }
   ],
   "source": [
    "lin_act.state_dict()"
   ]
  },
  {
   "cell_type": "markdown",
   "id": "2c421157",
   "metadata": {},
   "source": [
    "In the forward method is compiled, meaning that conditionals can be used to change what actions are applied, depending on the data provided at runtime:"
   ]
  },
  {
   "cell_type": "code",
   "execution_count": 28,
   "id": "57a44504",
   "metadata": {},
   "outputs": [],
   "source": [
    "class LinAct(nn.Module):\n",
    "    def __init__(self, nin, nout):\n",
    "        super().__init__()\n",
    "        self.lin = nn.Linear(nin, nout)\n",
    "        self.act = nn.ReLU()\n",
    "        self.zero_replacement = nn.Parameter(Tensor([-3]))\n",
    "        \n",
    "    def forward(self, x):\n",
    "        x = self.lin(x)\n",
    "        x = self.act(x)\n",
    "        x[x<=0] = self.zero_replacement  # if any values are less than or equal to 0, replace them with a learnable default value\n",
    "        return x"
   ]
  },
  {
   "cell_type": "code",
   "execution_count": 29,
   "id": "37013a52",
   "metadata": {},
   "outputs": [],
   "source": [
    "lin_act = LinAct(2,4)"
   ]
  },
  {
   "cell_type": "code",
   "execution_count": 30,
   "id": "ac0adc19",
   "metadata": {},
   "outputs": [
    {
     "data": {
      "text/plain": [
       "tensor([[-3.0000,  0.6434, -3.0000, -3.0000],\n",
       "        [-3.0000,  0.0659,  1.2936,  0.1982],\n",
       "        [-3.0000,  0.2788,  0.5140, -3.0000],\n",
       "        [-3.0000,  0.3862,  0.2030, -3.0000],\n",
       "        [-3.0000,  0.2865,  0.6796,  0.0125]], grad_fn=<IndexPutBackward0>)"
      ]
     },
     "execution_count": 30,
     "metadata": {},
     "output_type": "execute_result"
    }
   ],
   "source": [
    "x = torch.randn(5,2)\n",
    "lin_act(x)"
   ]
  },
  {
   "cell_type": "markdown",
   "id": "f00a831e",
   "metadata": {},
   "source": [
    "## Initialisation\n",
    "Suitable initialisation of parameters in a neural network is key to making them trainable quickly (or at all). PyTorch provides a default init scheme, but this isn't guaranteed to be suitable for the networks you create; it should vary according to, at least, the activation function used. The general rule-of-thumb is that data sampled from a unit-Gaussian, should retain a unit-Gaussian shape when passed through the DNN. To see why this is important, check out this interactive demo https://www.deeplearning.ai/ai-notes/initialization/index.html.\n",
    "\n",
    "Two of the most common schemes are:\n",
    "- Xavier Glorot: weights are sampled from either a uniform distribution between ±sqrt(6/(nin+nout)), or a Gaussian with mean 0 and std sqrt(2/(nin+nout)). This is used for e.g. linear, sigmoid, softmax, and tanh activation functions.\n",
    "- Kaiming He: weights are sampled from either a uniform distribution between ±sqrt(3/nin), or a Gaussian with mean 0 and std sqrt(1/nin). This is used for e.g. ReLU, PReLU, Swish, and Mish activation functions.\n",
    "\n",
    "As part of my LUMIN package, I maintain a list of applicable init schemes here https://github.com/GilesStrong/lumin/blob/master/lumin/nn/models/initialisations.py\n",
    "\n",
    "The bias of a linear layer can generally be initialised to zeros\n",
    "\n",
    "A full list of the init schemes in PyTorch is found here https://pytorch.org/docs/stable/nn.init.html"
   ]
  },
  {
   "cell_type": "code",
   "execution_count": 32,
   "id": "35ff14aa",
   "metadata": {},
   "outputs": [
    {
     "data": {
      "text/plain": [
       "OrderedDict([('weight',\n",
       "              tensor([[ 0.1572, -0.1353, -0.2506],\n",
       "                      [ 0.2733,  0.2149, -0.2999],\n",
       "                      [ 0.4583, -0.3283,  0.4848],\n",
       "                      [-0.0452, -0.4359, -0.3869],\n",
       "                      [-0.0950, -0.5202, -0.2576]])),\n",
       "             ('bias', tensor([-0.1350,  0.3089, -0.0082,  0.2809,  0.3997]))])"
      ]
     },
     "execution_count": 32,
     "metadata": {},
     "output_type": "execute_result"
    }
   ],
   "source": [
    "lin = nn.Linear(3,5)\n",
    "lin.state_dict()"
   ]
  },
  {
   "cell_type": "markdown",
   "id": "35b0fc29",
   "metadata": {},
   "source": [
    "This will set initial values in-place (note the _ at the end of the method to indicate its an in-place operation). Since we expect to feed the output into a ReLU, we need to specify 'relu' for the nonlinearaity. For no discernably good reason at all, there is a default value of 'leaky_relu' so don;t forget to correct this."
   ]
  },
  {
   "cell_type": "code",
   "execution_count": 33,
   "id": "17438333",
   "metadata": {},
   "outputs": [
    {
     "data": {
      "text/plain": [
       "Parameter containing:\n",
       "tensor([[ 0.4379, -0.3443, -0.4662],\n",
       "        [ 0.2523,  1.2330, -1.5220],\n",
       "        [ 0.6170, -0.8882,  0.0229],\n",
       "        [ 0.5918, -0.2919,  0.6845],\n",
       "        [ 0.2057,  0.2468, -0.6487]], requires_grad=True)"
      ]
     },
     "execution_count": 33,
     "metadata": {},
     "output_type": "execute_result"
    }
   ],
   "source": [
    "nn.init.kaiming_normal_(lin.weight, nonlinearity='relu')"
   ]
  },
  {
   "cell_type": "markdown",
   "id": "68bacb45",
   "metadata": {},
   "source": [
    "Let's zero the bias"
   ]
  },
  {
   "cell_type": "code",
   "execution_count": 34,
   "id": "003f2062",
   "metadata": {},
   "outputs": [
    {
     "data": {
      "text/plain": [
       "Parameter containing:\n",
       "tensor([0., 0., 0., 0., 0.], requires_grad=True)"
      ]
     },
     "execution_count": 34,
     "metadata": {},
     "output_type": "execute_result"
    }
   ],
   "source": [
    "nn.init.zeros_(lin.bias)"
   ]
  },
  {
   "cell_type": "code",
   "execution_count": 36,
   "id": "fd1c5ba2",
   "metadata": {},
   "outputs": [
    {
     "data": {
      "text/plain": [
       "OrderedDict([('weight',\n",
       "              tensor([[ 0.4379, -0.3443, -0.4662],\n",
       "                      [ 0.2523,  1.2330, -1.5220],\n",
       "                      [ 0.6170, -0.8882,  0.0229],\n",
       "                      [ 0.5918, -0.2919,  0.6845],\n",
       "                      [ 0.2057,  0.2468, -0.6487]])),\n",
       "             ('bias', tensor([0., 0., 0., 0., 0.]))])"
      ]
     },
     "execution_count": 36,
     "metadata": {},
     "output_type": "execute_result"
    }
   ],
   "source": [
    "lin.state_dict()"
   ]
  },
  {
   "cell_type": "markdown",
   "id": "b3a4e5ae",
   "metadata": {},
   "source": [
    "When writing a new module, generally I make sure that the layers are correctly initialised just after they are declared. However, it is still possible to reinitialise an instantiated module by recursively searching though it for different layers, like:"
   ]
  },
  {
   "cell_type": "code",
   "execution_count": 37,
   "id": "54aef91b",
   "metadata": {},
   "outputs": [],
   "source": [
    "def init_net(model:nn.Module):\n",
    "    r'''Recursively initialise fully-connected ReLU network with Kaiming and zero bias'''\n",
    "    if isinstance(model,nn.Linear):\n",
    "        init.kaiming_normal_(model.weight, nonlinearity='relu')\n",
    "        init.zeros_(model.bias)\n",
    "    for l in model.children(): init_net(l)"
   ]
  },
  {
   "cell_type": "markdown",
   "id": "7a6b32d3",
   "metadata": {},
   "source": [
    "However you now lose a bit of control, and it's easy to use the \"wrong\" init scheme depending on the layer."
   ]
  },
  {
   "cell_type": "markdown",
   "id": "9dccc26c",
   "metadata": {},
   "source": [
    "## Saving/loading\n",
    "After training a neural network (or even during), we often want to save its parameters. This is done via the `state_dict`."
   ]
  },
  {
   "cell_type": "code",
   "execution_count": 39,
   "id": "8e422c88",
   "metadata": {},
   "outputs": [
    {
     "data": {
      "text/plain": [
       "OrderedDict([('zero_replacement', tensor([-3.])),\n",
       "             ('lin.weight',\n",
       "              tensor([[ 0.0758,  0.0297],\n",
       "                      [ 0.0983,  0.0961],\n",
       "                      [-0.2321, -0.4204],\n",
       "                      [-0.0091, -0.3525]])),\n",
       "             ('lin.bias', tensor([-0.3967,  0.2413,  0.6331, -0.2551]))])"
      ]
     },
     "execution_count": 39,
     "metadata": {},
     "output_type": "execute_result"
    }
   ],
   "source": [
    "state = lin_act.state_dict()\n",
    "state"
   ]
  },
  {
   "cell_type": "code",
   "execution_count": 40,
   "id": "aad7c3ea",
   "metadata": {},
   "outputs": [],
   "source": [
    "torch.save(state, '03_save.pt')"
   ]
  },
  {
   "cell_type": "markdown",
   "id": "dcd49ad0",
   "metadata": {},
   "source": [
    "Now later we may want to reload the saved parameters. Note that we have only saved the parameters, and not the class or code itself. So we would need to re-instantiate the network with random parameters, and then load the saved params into it:"
   ]
  },
  {
   "cell_type": "code",
   "execution_count": 42,
   "id": "628026c2",
   "metadata": {},
   "outputs": [
    {
     "data": {
      "text/plain": [
       "OrderedDict([('zero_replacement', tensor([-3.])),\n",
       "             ('lin.weight',\n",
       "              tensor([[ 0.5269,  0.5570],\n",
       "                      [ 0.4566,  0.4674],\n",
       "                      [-0.2778,  0.6261],\n",
       "                      [-0.2094,  0.2372]])),\n",
       "             ('lin.bias', tensor([0.5638, 0.0331, 0.1616, 0.1378]))])"
      ]
     },
     "execution_count": 42,
     "metadata": {},
     "output_type": "execute_result"
    }
   ],
   "source": [
    "new_lin_act = LinAct(2,4)\n",
    "new_lin_act.state_dict()"
   ]
  },
  {
   "cell_type": "code",
   "execution_count": 43,
   "id": "ee093b5e",
   "metadata": {},
   "outputs": [],
   "source": [
    "loaded_state = torch.load('03_save.pt')"
   ]
  },
  {
   "cell_type": "code",
   "execution_count": 44,
   "id": "d40b6627",
   "metadata": {},
   "outputs": [
    {
     "data": {
      "text/plain": [
       "<All keys matched successfully>"
      ]
     },
     "execution_count": 44,
     "metadata": {},
     "output_type": "execute_result"
    }
   ],
   "source": [
    "new_lin_act.load_state_dict(loaded_state)"
   ]
  },
  {
   "cell_type": "code",
   "execution_count": 45,
   "id": "23f4a9f2",
   "metadata": {},
   "outputs": [
    {
     "data": {
      "text/plain": [
       "OrderedDict([('zero_replacement', tensor([-3.])),\n",
       "             ('lin.weight',\n",
       "              tensor([[ 0.0758,  0.0297],\n",
       "                      [ 0.0983,  0.0961],\n",
       "                      [-0.2321, -0.4204],\n",
       "                      [-0.0091, -0.3525]])),\n",
       "             ('lin.bias', tensor([-0.3967,  0.2413,  0.6331, -0.2551]))])"
      ]
     },
     "execution_count": 45,
     "metadata": {},
     "output_type": "execute_result"
    }
   ],
   "source": [
    "new_lin_act.state_dict()"
   ]
  },
  {
   "cell_type": "markdown",
   "id": "558a64ed",
   "metadata": {},
   "source": [
    "A more tricky, but flexible and user-convenient export method is the PyTorch packager https://pytorch.org/docs/stable/package.html. This allows one to export the saved parameters, the code necessary to produce the modules it relates to, and relevant code from any dependencies that users may not want to install."
   ]
  },
  {
   "cell_type": "markdown",
   "id": "20b5ff55",
   "metadata": {},
   "source": [
    "## nn.functional\n",
    "Many operations/layers are presented as classes, but most are also available a functions; https://pytorch.org/docs/stable/nn.functional.html -- commonly imported as `F`. Without moving to a full functional-programming approach it is still possible/useful to use these functions in you modules, e.g.:"
   ]
  },
  {
   "cell_type": "code",
   "execution_count": 48,
   "id": "9eea3ca6",
   "metadata": {},
   "outputs": [],
   "source": [
    "import torch.nn.functional as F"
   ]
  },
  {
   "cell_type": "code",
   "execution_count": 49,
   "id": "bf59833e",
   "metadata": {},
   "outputs": [],
   "source": [
    "class LinAct(nn.Module):\n",
    "    def __init__(self, nin, nout):\n",
    "        super().__init__()\n",
    "        self.lin = nn.Linear(nin, nout)\n",
    "        \n",
    "    def forward(self, x):\n",
    "        x = self.lin(x)\n",
    "        x = F.relu(x)  # Note rather than have the ReLU be an object of the module, we use the function version\n",
    "        return x"
   ]
  },
  {
   "cell_type": "code",
   "execution_count": 64,
   "id": "92607a5c",
   "metadata": {},
   "outputs": [
    {
     "data": {
      "text/plain": [
       "tensor([[0.0000, 0.5719, 0.0000, 0.0000, 0.2449, 0.4093],\n",
       "        [0.0000, 0.1497, 0.1155, 0.1138, 0.0000, 1.1983],\n",
       "        [0.0000, 0.1622, 0.0000, 0.0000, 0.1617, 0.5982],\n",
       "        [0.0000, 0.8241, 0.0000, 0.0000, 0.1513, 0.6360]],\n",
       "       grad_fn=<ReluBackward0>)"
      ]
     },
     "execution_count": 64,
     "metadata": {},
     "output_type": "execute_result"
    }
   ],
   "source": [
    "x = torch.randn(4,2)\n",
    "x = LinAct(2,6)(x)\n",
    "x"
   ]
  },
  {
   "cell_type": "markdown",
   "id": "ae58faa7",
   "metadata": {},
   "source": [
    "A fully functional approach would be something like:"
   ]
  },
  {
   "cell_type": "code",
   "execution_count": 65,
   "id": "8245505d",
   "metadata": {},
   "outputs": [],
   "source": [
    "w = nn.init.kaiming_normal_(torch.empty(6,2))\n",
    "b = torch.zeros(6)"
   ]
  },
  {
   "cell_type": "code",
   "execution_count": 84,
   "id": "276d1774",
   "metadata": {},
   "outputs": [
    {
     "data": {
      "text/plain": [
       "tensor([[0.0000, 0.0000, 0.0000, 0.9819, 0.0000, 0.0000],\n",
       "        [0.0000, 0.0000, 0.1321, 2.9878, 0.0000, 1.7430],\n",
       "        [0.0218, 0.0000, 0.0000, 0.0000, 0.0367, 0.0000],\n",
       "        [0.2847, 0.0000, 0.0000, 0.0000, 0.5401, 0.0000]])"
      ]
     },
     "execution_count": 84,
     "metadata": {},
     "output_type": "execute_result"
    }
   ],
   "source": [
    "x = torch.randn(4,2)\n",
    "F.relu(F.linear(x, weight=w, bias=b))"
   ]
  },
  {
   "cell_type": "markdown",
   "id": "2b7957bf",
   "metadata": {},
   "source": [
    "Or even:"
   ]
  },
  {
   "cell_type": "code",
   "execution_count": 85,
   "id": "6ee308d5",
   "metadata": {},
   "outputs": [
    {
     "data": {
      "text/plain": [
       "tensor([[0.0000, 0.0000, 0.0000, 0.9819, 0.0000, 0.0000],\n",
       "        [0.0000, 0.0000, 0.1321, 2.9878, 0.0000, 1.7430],\n",
       "        [0.0218, 0.0000, 0.0000, 0.0000, 0.0367, 0.0000],\n",
       "        [0.2847, 0.0000, 0.0000, 0.0000, 0.5401, 0.0000]])"
      ]
     },
     "execution_count": 85,
     "metadata": {},
     "output_type": "execute_result"
    }
   ],
   "source": [
    "torch.clamp_min(x@w.T+b, 0)"
   ]
  },
  {
   "cell_type": "code",
   "execution_count": null,
   "id": "1c2bfb73",
   "metadata": {},
   "outputs": [],
   "source": []
  }
 ],
 "metadata": {
  "kernelspec": {
   "display_name": "Python [conda env:pytorch_tutorial_2022]",
   "language": "python",
   "name": "conda-env-pytorch_tutorial_2022-py"
  },
  "language_info": {
   "codemirror_mode": {
    "name": "ipython",
    "version": 3
   },
   "file_extension": ".py",
   "mimetype": "text/x-python",
   "name": "python",
   "nbconvert_exporter": "python",
   "pygments_lexer": "ipython3",
   "version": "3.8.0"
  },
  "toc": {
   "base_numbering": 1,
   "nav_menu": {},
   "number_sections": true,
   "sideBar": true,
   "skip_h1_title": false,
   "title_cell": "Table of Contents",
   "title_sidebar": "Contents",
   "toc_cell": false,
   "toc_position": {},
   "toc_section_display": true,
   "toc_window_display": false
  }
 },
 "nbformat": 4,
 "nbformat_minor": 5
}
