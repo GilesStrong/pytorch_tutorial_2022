{
 "cells": [
  {
   "cell_type": "code",
   "execution_count": 1,
   "id": "ccc4e6a6",
   "metadata": {},
   "outputs": [],
   "source": [
    "%matplotlib inline\n",
    "%reload_ext autoreload\n",
    "%autoreload 2"
   ]
  },
  {
   "cell_type": "code",
   "execution_count": 2,
   "id": "75c92a08",
   "metadata": {},
   "outputs": [],
   "source": [
    "import torch\n",
    "from torch import Tensor"
   ]
  },
  {
   "cell_type": "markdown",
   "id": "2804cbf5",
   "metadata": {},
   "source": [
    "In this set of exercises, we will consider recorded hits for muon positions along a single dimension. The recorded positions suffer from finite resolution and so carry an uncertainty. The recorded positions (hits) are then used to compute a variable per muon. You will need to compute the uncertainty on this value due to the finite resolution."
   ]
  },
  {
   "cell_type": "markdown",
   "id": "7c767c23",
   "metadata": {},
   "source": [
    "## Set up\n",
    "First we want to set up our resolution. This should be a single-element tensor, called `resolution`, with a value of 100.0, that requires gradient:"
   ]
  },
  {
   "cell_type": "code",
   "execution_count": 3,
   "id": "420b7d06",
   "metadata": {},
   "outputs": [],
   "source": [
    "resolution = torch.tensor([1e2], requires_grad=True)"
   ]
  },
  {
   "cell_type": "code",
   "execution_count": 4,
   "id": "56f9a3c3",
   "metadata": {},
   "outputs": [],
   "source": [
    "assert resolution == 1e2\n",
    "assert resolution.requires_grad"
   ]
  },
  {
   "cell_type": "markdown",
   "id": "2eb3a286",
   "metadata": {},
   "source": [
    "Now we want to take the true positions of the muons, `true_x`, and perturb them with the resolution. We assume that the resolution error contributes as a Gaussian:"
   ]
  },
  {
   "cell_type": "code",
   "execution_count": 5,
   "id": "9a9d87fb",
   "metadata": {},
   "outputs": [],
   "source": [
    "true_x = torch.rand(100,1)"
   ]
  },
  {
   "cell_type": "code",
   "execution_count": 6,
   "id": "f3fb3318",
   "metadata": {},
   "outputs": [
    {
     "data": {
      "text/plain": [
       "tensor([[0.0805],\n",
       "        [0.6654],\n",
       "        [0.0671],\n",
       "        [0.6379],\n",
       "        [0.3920],\n",
       "        [0.2181],\n",
       "        [0.5894],\n",
       "        [0.9845],\n",
       "        [0.7067],\n",
       "        [0.7014]], grad_fn=<SliceBackward0>)"
      ]
     },
     "execution_count": 6,
     "metadata": {},
     "output_type": "execute_result"
    }
   ],
   "source": [
    "reco_x = true_x+(torch.randn_like(true_x)/resolution)\n",
    "reco_x[:10]"
   ]
  },
  {
   "cell_type": "markdown",
   "id": "b243b8d2",
   "metadata": {},
   "source": [
    "Below is the function that will compute the variable from the the recorded hits:"
   ]
  },
  {
   "cell_type": "code",
   "execution_count": 7,
   "id": "bb9b15e4",
   "metadata": {},
   "outputs": [],
   "source": [
    "def infer_theta(reco_hits:Tensor) -> Tensor:\n",
    "    dz = 1.5\n",
    "    theta = torch.arctan(reco_hits.abs()/dz)\n",
    "    return theta"
   ]
  },
  {
   "cell_type": "code",
   "execution_count": 8,
   "id": "7a01530a",
   "metadata": {},
   "outputs": [],
   "source": [
    "theta = infer_theta(reco_x)"
   ]
  },
  {
   "cell_type": "code",
   "execution_count": 9,
   "id": "290aab51",
   "metadata": {},
   "outputs": [
    {
     "data": {
      "text/plain": [
       "tensor([[0.0536],\n",
       "        [0.4175],\n",
       "        [0.0447],\n",
       "        [0.4021],\n",
       "        [0.2556],\n",
       "        [0.1444],\n",
       "        [0.3744],\n",
       "        [0.5808],\n",
       "        [0.4403],\n",
       "        [0.4374]], grad_fn=<SliceBackward0>)"
      ]
     },
     "execution_count": 9,
     "metadata": {},
     "output_type": "execute_result"
    }
   ],
   "source": [
    "theta[:10]"
   ]
  },
  {
   "cell_type": "markdown",
   "id": "62462d77",
   "metadata": {},
   "source": [
    "## Uncertainty\n",
    "The uncertainty propagation formula for one dependent variable ($x$) is:\n",
    "$$\\sigma_y = \\frac{\\partial y}{\\partial x}\\sigma_x$$\n",
    "\n",
    "Below, implement this formula and compute the uncertainty on the inferred theta angle for every muon."
   ]
  },
  {
   "cell_type": "code",
   "execution_count": 10,
   "id": "e5471050",
   "metadata": {},
   "outputs": [],
   "source": [
    "from torch._vmap_internals import _vmap as vmap\n",
    "\n",
    "def jacobian(y: Tensor, x: Tensor, create_graph: bool = False, allow_unused: bool = True) -> Tensor:\n",
    "    r\"\"\"\n",
    "    Computes the Jacobian (dy/dx) of y with respect to variables x. x and y can have multiple elements.\n",
    "    If y has multiple elements then computation is vectorised via vmap.\n",
    "\n",
    "    Arguments:\n",
    "        y: tensor to be differentiated\n",
    "        x: dependent variables\n",
    "        create_graph: If True, graph of the derivative will\n",
    "            be constructed, allowing to compute higher order derivative products.\n",
    "            Default: False.\n",
    "        allow_unused: If False, specifying inputs that were not\n",
    "            used when computing outputs (and therefore their grad is always\n",
    "\n",
    "    Returns:\n",
    "        dy/dx tensor of shape y.shape+x.shape\n",
    "    \"\"\"\n",
    "\n",
    "    if len(y) == 0:\n",
    "        return None\n",
    "    flat_y = y.reshape(-1)\n",
    "\n",
    "    def get_vjp(v: Tensor) -> Tensor:\n",
    "        return torch.autograd.grad(flat_y, x, v, retain_graph=True, create_graph=create_graph, allow_unused=allow_unused)[0].reshape(x.shape)\n",
    "\n",
    "    return vmap(get_vjp)(torch.eye(len(flat_y), device=y.device)).reshape(y.shape + x.shape)"
   ]
  },
  {
   "cell_type": "code",
   "execution_count": 11,
   "id": "f2ca7454",
   "metadata": {},
   "outputs": [
    {
     "data": {
      "text/plain": [
       "(torch.Size([100, 1]), torch.Size([100, 1]))"
      ]
     },
     "execution_count": 11,
     "metadata": {},
     "output_type": "execute_result"
    }
   ],
   "source": [
    "theta.shape, reco_x.shape"
   ]
  },
  {
   "cell_type": "code",
   "execution_count": 12,
   "id": "1d52f531",
   "metadata": {},
   "outputs": [],
   "source": [
    "unc_theta = (jacobian(theta, reco_x)/resolution).sum((-1,-2))"
   ]
  },
  {
   "cell_type": "code",
   "execution_count": 13,
   "id": "e283f256",
   "metadata": {},
   "outputs": [
    {
     "data": {
      "text/plain": [
       "tensor([[0.0066],\n",
       "        [0.0056],\n",
       "        [0.0067],\n",
       "        [0.0056],\n",
       "        [0.0062],\n",
       "        [0.0065],\n",
       "        [0.0058],\n",
       "        [0.0047],\n",
       "        [0.0055],\n",
       "        [0.0055]], grad_fn=<SliceBackward0>)"
      ]
     },
     "execution_count": 13,
     "metadata": {},
     "output_type": "execute_result"
    }
   ],
   "source": [
    "unc_theta[:10]"
   ]
  },
  {
   "cell_type": "code",
   "execution_count": null,
   "id": "a521b636",
   "metadata": {},
   "outputs": [],
   "source": []
  }
 ],
 "metadata": {
  "kernelspec": {
   "display_name": "Python [conda env:pytorch_tutorial_2022]",
   "language": "python",
   "name": "conda-env-pytorch_tutorial_2022-py"
  },
  "language_info": {
   "codemirror_mode": {
    "name": "ipython",
    "version": 3
   },
   "file_extension": ".py",
   "mimetype": "text/x-python",
   "name": "python",
   "nbconvert_exporter": "python",
   "pygments_lexer": "ipython3",
   "version": "3.8.0"
  },
  "toc": {
   "base_numbering": 1,
   "nav_menu": {},
   "number_sections": true,
   "sideBar": true,
   "skip_h1_title": false,
   "title_cell": "Table of Contents",
   "title_sidebar": "Contents",
   "toc_cell": false,
   "toc_position": {},
   "toc_section_display": true,
   "toc_window_display": false
  }
 },
 "nbformat": 4,
 "nbformat_minor": 5
}
