{
 "cells": [
  {
   "cell_type": "code",
   "execution_count": 1,
   "id": "ccc4e6a6",
   "metadata": {},
   "outputs": [],
   "source": [
    "%matplotlib inline\n",
    "%reload_ext autoreload\n",
    "%autoreload 2"
   ]
  },
  {
   "cell_type": "code",
   "execution_count": 2,
   "id": "46b68e0a",
   "metadata": {},
   "outputs": [],
   "source": [
    "import torch\n",
    "from torch import Tensor, distributions"
   ]
  },
  {
   "cell_type": "markdown",
   "id": "ff9e3ff0",
   "metadata": {},
   "source": [
    "## Random sampling\n",
    "As seen in part 01, PyTorch can generate tensors filled with random numbers samples according to basic distributions:"
   ]
  },
  {
   "cell_type": "code",
   "execution_count": 3,
   "id": "b5521c0b",
   "metadata": {},
   "outputs": [
    {
     "data": {
      "text/plain": [
       "tensor([[0.4722, 0.6718, 0.2287],\n",
       "        [0.1896, 0.7300, 0.5554],\n",
       "        [0.3913, 0.9610, 0.9941],\n",
       "        [0.5253, 0.1720, 0.7818],\n",
       "        [0.7470, 0.3337, 0.5323],\n",
       "        [0.3313, 0.1358, 0.6493],\n",
       "        [0.8164, 0.4990, 0.7478],\n",
       "        [0.3392, 0.0306, 0.2842],\n",
       "        [0.7723, 0.4456, 0.8774],\n",
       "        [0.9072, 0.1643, 0.8128]])"
      ]
     },
     "execution_count": 3,
     "metadata": {},
     "output_type": "execute_result"
    }
   ],
   "source": [
    "torch.rand(10,3)  # Sample 30 numbers from a uniform distribution between 0 and 1"
   ]
  },
  {
   "cell_type": "code",
   "execution_count": 4,
   "id": "c7d26256",
   "metadata": {},
   "outputs": [
    {
     "data": {
      "text/plain": [
       "tensor([-0.2394, -0.6538, -1.0392, -0.7268,  0.6277, -0.1179,  0.4908, -1.6001])"
      ]
     },
     "execution_count": 4,
     "metadata": {},
     "output_type": "execute_result"
    }
   ],
   "source": [
    "torch.randn(8)  # Sample 8 numbers from a unit-Gaussian"
   ]
  },
  {
   "cell_type": "markdown",
   "id": "efb0427f",
   "metadata": {},
   "source": [
    "## Distribution classes\n",
    "Sometimes we instead want to sample from more complex distributions, or to be able to treat distributions as objects with their own parameters and methods. \n",
    "`torch.distributions` contains a variety of such classes.\n",
    "\n",
    "The majority of this example will use the `Normal` distribution, but check https://pytorch.org/docs/stable/distributions.html for more info"
   ]
  },
  {
   "cell_type": "code",
   "execution_count": 7,
   "id": "7b6abac0",
   "metadata": {},
   "outputs": [],
   "source": [
    "norm = distributions.Normal(loc=0,scale=1)  # scale here is the standard deviation"
   ]
  },
  {
   "cell_type": "markdown",
   "id": "8ff59a36",
   "metadata": {},
   "source": [
    "Ones instantiated, `Distribution`s have a variety of methods, e.g.:"
   ]
  },
  {
   "cell_type": "code",
   "execution_count": 12,
   "id": "12ca383e",
   "metadata": {},
   "outputs": [
    {
     "data": {
      "text/plain": [
       "tensor([-2.9189])"
      ]
     },
     "execution_count": 12,
     "metadata": {},
     "output_type": "execute_result"
    }
   ],
   "source": [
    "norm.log_prob(Tensor([2]))  # evaluate the log PDF at x=2"
   ]
  },
  {
   "cell_type": "markdown",
   "id": "8e111536",
   "metadata": {},
   "source": [
    "Normally, methods can take multi-element tensors, which results in the operation being broadcast across each element:"
   ]
  },
  {
   "cell_type": "code",
   "execution_count": 14,
   "id": "7cf48830",
   "metadata": {},
   "outputs": [
    {
     "data": {
      "text/plain": [
       "tensor([-2.9189, -1.4189, -0.9189, -1.4189, -2.9189])"
      ]
     },
     "execution_count": 14,
     "metadata": {},
     "output_type": "execute_result"
    }
   ],
   "source": [
    "norm.log_prob(Tensor([-2,-1,0,1,2]))  # evaluate the log probability at multiple values"
   ]
  },
  {
   "cell_type": "code",
   "execution_count": 15,
   "id": "3f81b216",
   "metadata": {},
   "outputs": [
    {
     "data": {
      "text/plain": [
       "tensor([0.0228, 0.1587, 0.5000, 0.8413, 0.9772])"
      ]
     },
     "execution_count": 15,
     "metadata": {},
     "output_type": "execute_result"
    }
   ],
   "source": [
    "norm.cdf(Tensor([-2,-1,0,1,2]))  # evaluate the cumulative probability"
   ]
  },
  {
   "cell_type": "markdown",
   "id": "b046a3da",
   "metadata": {},
   "source": [
    "We can also randomly sample from the distribution by specifying the desired shape of the resulting tensor:"
   ]
  },
  {
   "cell_type": "code",
   "execution_count": 19,
   "id": "8992e7d0",
   "metadata": {
    "scrolled": false
   },
   "outputs": [
    {
     "data": {
      "text/plain": [
       "tensor([[0.6697, 0.6439],\n",
       "        [0.3628, 0.2887],\n",
       "        [1.7138, 0.7125]])"
      ]
     },
     "execution_count": 19,
     "metadata": {},
     "output_type": "execute_result"
    }
   ],
   "source": [
    "norm.sample([3,2])"
   ]
  },
  {
   "cell_type": "markdown",
   "id": "8cc9347e",
   "metadata": {},
   "source": [
    "## Parameterised distributions\n",
    "Previously, we created a distribution using floats, but using tensors gives us a bit more flexibility"
   ]
  },
  {
   "cell_type": "code",
   "execution_count": 23,
   "id": "bab5b583",
   "metadata": {},
   "outputs": [],
   "source": [
    "norm = distributions.Normal(loc=Tensor([[0,2],[-1,3]]),scale=Tensor([[1,1.5],[6,2]]))"
   ]
  },
  {
   "cell_type": "markdown",
   "id": "e0b33d2a",
   "metadata": {},
   "source": [
    "Effectively, our `norm` now contains 4 different Gaussians with a specify shape, and methods will now return tensors with that shape"
   ]
  },
  {
   "cell_type": "code",
   "execution_count": 25,
   "id": "e66c4635",
   "metadata": {},
   "outputs": [
    {
     "data": {
      "text/plain": [
       "tensor([[-2.9189, -1.3244],\n",
       "        [-2.8357, -1.7371]])"
      ]
     },
     "execution_count": 25,
     "metadata": {},
     "output_type": "execute_result"
    }
   ],
   "source": [
    "norm.log_prob(Tensor([2]))  # evaluate the log PDF of all 4 Gaussians at x=2"
   ]
  },
  {
   "cell_type": "markdown",
   "id": "d9736481",
   "metadata": {},
   "source": [
    "Multi-point evaluation, needs to be done such that the evaluation points can be reshaped automatically"
   ]
  },
  {
   "cell_type": "code",
   "execution_count": 38,
   "id": "d54b261c",
   "metadata": {},
   "outputs": [
    {
     "data": {
      "text/plain": [
       "tensor([[[-2.9189, -4.8800],\n",
       "         [-2.7246, -4.7371]],\n",
       "\n",
       "        [[-1.4189, -3.3244],\n",
       "         [-2.7107, -3.6121]],\n",
       "\n",
       "        [[-0.9189, -2.2133],\n",
       "         [-2.7246, -2.7371]],\n",
       "\n",
       "        [[-1.4189, -1.5466],\n",
       "         [-2.7663, -2.1121]],\n",
       "\n",
       "        [[-2.9189, -1.3244],\n",
       "         [-2.8357, -1.7371]]])"
      ]
     },
     "execution_count": 38,
     "metadata": {},
     "output_type": "execute_result"
    }
   ],
   "source": [
    "norm.log_prob(Tensor([-2,-1,0,1,2])[:,None,None])  # evaluate the log PDF of all 4 Gaussians at several points"
   ]
  },
  {
   "cell_type": "code",
   "execution_count": 40,
   "id": "cc7775ea",
   "metadata": {},
   "outputs": [
    {
     "data": {
      "text/plain": [
       "tensor([[-2.9189, -3.3244],\n",
       "        [-2.7663, -1.7371]])"
      ]
     },
     "execution_count": 40,
     "metadata": {},
     "output_type": "execute_result"
    }
   ],
   "source": [
    "norm.log_prob(Tensor([[-2,-1],[1,2]]))  # evaluate the log PDF each Gaussian at a different specific point"
   ]
  },
  {
   "cell_type": "markdown",
   "id": "bfb430db",
   "metadata": {},
   "source": [
    "### Parameter updates\n",
    "When the distributions are initialised, the values of the tensors are not copied, instead the distribution is given a pointer to the tensor. This means that if the the value of the tensor changes, then the distribution will will also change accordingly:"
   ]
  },
  {
   "cell_type": "code",
   "execution_count": 66,
   "id": "0eca2966",
   "metadata": {},
   "outputs": [],
   "source": [
    "loc = torch.tensor([0])\n",
    "scale = torch.tensor([1])"
   ]
  },
  {
   "cell_type": "code",
   "execution_count": 67,
   "id": "7f7958f2",
   "metadata": {},
   "outputs": [],
   "source": [
    "norm = distributions.Normal(loc=loc,scale=scale)"
   ]
  },
  {
   "cell_type": "code",
   "execution_count": 68,
   "id": "b9850c6f",
   "metadata": {},
   "outputs": [
    {
     "data": {
      "text/plain": [
       "tensor([-2.9189])"
      ]
     },
     "execution_count": 68,
     "metadata": {},
     "output_type": "execute_result"
    }
   ],
   "source": [
    "norm.log_prob(Tensor([2]))"
   ]
  },
  {
   "cell_type": "markdown",
   "id": "2ab14d62",
   "metadata": {},
   "source": [
    "Now let's change the parameters in-place"
   ]
  },
  {
   "cell_type": "code",
   "execution_count": 69,
   "id": "6e08254b",
   "metadata": {},
   "outputs": [],
   "source": [
    "loc[0] = 3"
   ]
  },
  {
   "cell_type": "code",
   "execution_count": 70,
   "id": "35808fb7",
   "metadata": {},
   "outputs": [
    {
     "data": {
      "text/plain": [
       "tensor([-1.4189])"
      ]
     },
     "execution_count": 70,
     "metadata": {},
     "output_type": "execute_result"
    }
   ],
   "source": [
    "norm.log_prob(Tensor([2]))"
   ]
  },
  {
   "cell_type": "code",
   "execution_count": 71,
   "id": "db953f32",
   "metadata": {},
   "outputs": [],
   "source": [
    "scale *= 4"
   ]
  },
  {
   "cell_type": "code",
   "execution_count": 72,
   "id": "4562e6ec",
   "metadata": {},
   "outputs": [
    {
     "data": {
      "text/plain": [
       "tensor([-2.3365])"
      ]
     },
     "execution_count": 72,
     "metadata": {},
     "output_type": "execute_result"
    }
   ],
   "source": [
    "norm.log_prob(Tensor([2]))"
   ]
  },
  {
   "cell_type": "markdown",
   "id": "62e3b690",
   "metadata": {},
   "source": [
    "## Differentiable distributions\n",
    "Most of the methods of a `Distribution` are differentiable, meaning that if the parameters of the distribution require gradient, the returned values will carry a gradient function"
   ]
  },
  {
   "cell_type": "code",
   "execution_count": 74,
   "id": "fdc97c05",
   "metadata": {},
   "outputs": [],
   "source": [
    "loc = torch.tensor([0.], requires_grad=True)\n",
    "scale = torch.tensor([1.], requires_grad=True)"
   ]
  },
  {
   "cell_type": "code",
   "execution_count": 75,
   "id": "f25b93de",
   "metadata": {},
   "outputs": [],
   "source": [
    "norm = distributions.Normal(loc=loc,scale=scale)"
   ]
  },
  {
   "cell_type": "code",
   "execution_count": 76,
   "id": "21943cb3",
   "metadata": {
    "scrolled": true
   },
   "outputs": [
    {
     "data": {
      "text/plain": [
       "tensor([-2.9189], grad_fn=<SubBackward0>)"
      ]
     },
     "execution_count": 76,
     "metadata": {},
     "output_type": "execute_result"
    }
   ],
   "source": [
    "norm.log_prob(Tensor([2]))"
   ]
  },
  {
   "cell_type": "code",
   "execution_count": 77,
   "id": "0173dbe3",
   "metadata": {
    "scrolled": true
   },
   "outputs": [
    {
     "data": {
      "text/plain": [
       "tensor([0.5000, 0.8413, 0.9772], grad_fn=<MulBackward0>)"
      ]
     },
     "execution_count": 77,
     "metadata": {},
     "output_type": "execute_result"
    }
   ],
   "source": [
    "norm.cdf(Tensor([0,1,2]))"
   ]
  },
  {
   "cell_type": "markdown",
   "id": "d5542288",
   "metadata": {},
   "source": [
    "The exception is the `sample()` method:"
   ]
  },
  {
   "cell_type": "code",
   "execution_count": 78,
   "id": "54d441a7",
   "metadata": {},
   "outputs": [
    {
     "data": {
      "text/plain": [
       "tensor([[1.1032],\n",
       "        [1.8139]])"
      ]
     },
     "execution_count": 78,
     "metadata": {},
     "output_type": "execute_result"
    }
   ],
   "source": [
    "norm.sample([2])"
   ]
  },
  {
   "cell_type": "markdown",
   "id": "6c541ad0",
   "metadata": {},
   "source": [
    "However some distributions can be re-parameterised such that the samples are differentiable, e.g. the Gaussian samples can be drawn as `(scale*z~N(0,1))+loc)`.\n",
    "The `rsample` method will return differentiable samples, if that is possible for the distribution."
   ]
  },
  {
   "cell_type": "code",
   "execution_count": 79,
   "id": "17b6e322",
   "metadata": {},
   "outputs": [
    {
     "data": {
      "text/plain": [
       "tensor([[-0.7684],\n",
       "        [ 0.1469]], grad_fn=<AddBackward0>)"
      ]
     },
     "execution_count": 79,
     "metadata": {},
     "output_type": "execute_result"
    }
   ],
   "source": [
    "norm.rsample([2])"
   ]
  },
  {
   "cell_type": "code",
   "execution_count": null,
   "id": "aaab0f26",
   "metadata": {},
   "outputs": [],
   "source": []
  }
 ],
 "metadata": {
  "kernelspec": {
   "display_name": "Python [conda env:pytorch_tutorial_2022]",
   "language": "python",
   "name": "conda-env-pytorch_tutorial_2022-py"
  },
  "language_info": {
   "codemirror_mode": {
    "name": "ipython",
    "version": 3
   },
   "file_extension": ".py",
   "mimetype": "text/x-python",
   "name": "python",
   "nbconvert_exporter": "python",
   "pygments_lexer": "ipython3",
   "version": "3.8.0"
  },
  "toc": {
   "base_numbering": 1,
   "nav_menu": {},
   "number_sections": true,
   "sideBar": true,
   "skip_h1_title": false,
   "title_cell": "Table of Contents",
   "title_sidebar": "Contents",
   "toc_cell": false,
   "toc_position": {},
   "toc_section_display": true,
   "toc_window_display": false
  }
 },
 "nbformat": 4,
 "nbformat_minor": 5
}
