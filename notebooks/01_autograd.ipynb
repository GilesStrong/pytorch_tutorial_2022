{
 "cells": [
  {
   "cell_type": "code",
   "execution_count": 181,
   "id": "ccc4e6a6",
   "metadata": {},
   "outputs": [],
   "source": [
    "%matplotlib inline\n",
    "%reload_ext autoreload\n",
    "%autoreload 2"
   ]
  },
  {
   "cell_type": "code",
   "execution_count": 182,
   "id": "75c92a08",
   "metadata": {},
   "outputs": [],
   "source": [
    "import torch\n",
    "from torch import Tensor"
   ]
  },
  {
   "cell_type": "markdown",
   "id": "319680d8",
   "metadata": {},
   "source": [
    "## Differentiating tensors\n",
    "In part 01 we looked at how tensors can be used to store data and perform vectorised operations.\n",
    "In PyTorch it is possible to differentiate the results of such operations with respect to the input variables, if desired.\n",
    "\n",
    "To do this, the dependent variable (`Tensor`) must be initialised with `requires_grad` set to `True`. Then, anytime the tensor is used in an operation the gradient of that function will be included in the result, eventually allowing it to be differentiated."
   ]
  },
  {
   "cell_type": "code",
   "execution_count": 183,
   "id": "6ce9b20a",
   "metadata": {},
   "outputs": [
    {
     "data": {
      "text/plain": [
       "tensor([6.], requires_grad=True)"
      ]
     },
     "execution_count": 183,
     "metadata": {},
     "output_type": "execute_result"
    }
   ],
   "source": [
    "dep_var = torch.tensor([6.0], requires_grad=True)\n",
    "dep_var"
   ]
  },
  {
   "cell_type": "code",
   "execution_count": 184,
   "id": "0797780f",
   "metadata": {},
   "outputs": [
    {
     "data": {
      "text/plain": [
       "tensor([-1.4449])"
      ]
     },
     "execution_count": 184,
     "metadata": {},
     "output_type": "execute_result"
    }
   ],
   "source": [
    "data = torch.randn(1)\n",
    "data"
   ]
  },
  {
   "cell_type": "code",
   "execution_count": 185,
   "id": "2f1877d7",
   "metadata": {},
   "outputs": [
    {
     "data": {
      "text/plain": [
       "tensor([-8.6692], grad_fn=<MulBackward0>)"
      ]
     },
     "execution_count": 185,
     "metadata": {},
     "output_type": "execute_result"
    }
   ],
   "source": [
    "value = data*dep_var\n",
    "value"
   ]
  },
  {
   "cell_type": "markdown",
   "id": "0d7de891",
   "metadata": {},
   "source": [
    "Note that the value has a `grad_fn`, which means it can be differentiated.\n",
    "\n",
    "`torch.autograd` contains various functions to help with this, e.g. `torch.autograd.grad`:"
   ]
  },
  {
   "cell_type": "code",
   "execution_count": 7,
   "id": "66a3352e",
   "metadata": {},
   "outputs": [],
   "source": [
    "from torch.autograd import grad"
   ]
  },
  {
   "cell_type": "code",
   "execution_count": 8,
   "id": "f0cced16",
   "metadata": {},
   "outputs": [
    {
     "data": {
      "text/plain": [
       "(tensor([0.7087]),)"
      ]
     },
     "execution_count": 8,
     "metadata": {},
     "output_type": "execute_result"
    }
   ],
   "source": [
    "grad(outputs=value, inputs=dep_var)"
   ]
  },
  {
   "cell_type": "markdown",
   "id": "362f91bf",
   "metadata": {},
   "source": [
    "### Differentiating functions\n",
    "Above, we performed a function on a tensor and got the result, which we then differentiated with respect to the dependent input. It is also possible to differentiate functions directly for given inputs, without getting the results of the functions. I don't particularly like this.\n",
    "\n",
    "Note that it also computes the gradient with respect to the data, even though the data wasn't set to require gradient.\n",
    "\n",
    "These methods are mainly designed for *functional* programming, but you'd be better off looking into the [functorch ](https://pytorch.org/functorch/stable/) extension for PyTorch, or just using [JAX](https://jax.readthedocs.io/en/latest/notebooks/quickstart.html)."
   ]
  },
  {
   "cell_type": "code",
   "execution_count": 9,
   "id": "e14a7fe3",
   "metadata": {},
   "outputs": [],
   "source": [
    "def func(data,dep_var):\n",
    "    return data*dep_var"
   ]
  },
  {
   "cell_type": "code",
   "execution_count": 10,
   "id": "26b8ed7e",
   "metadata": {},
   "outputs": [
    {
     "data": {
      "text/plain": [
       "(tensor([[6.]]), tensor([[0.7087]]))"
      ]
     },
     "execution_count": 10,
     "metadata": {},
     "output_type": "execute_result"
    }
   ],
   "source": [
    "torch.autograd.functional.jacobian(func, (data,dep_var))"
   ]
  },
  {
   "cell_type": "code",
   "execution_count": 11,
   "id": "e7d55355",
   "metadata": {},
   "outputs": [
    {
     "data": {
      "text/plain": [
       "((tensor([[0.]]), tensor([[1.]])), (tensor([[1.]]), tensor([[0.]])))"
      ]
     },
     "execution_count": 11,
     "metadata": {},
     "output_type": "execute_result"
    }
   ],
   "source": [
    "torch.autograd.functional.hessian(func, (data,dep_var))"
   ]
  },
  {
   "cell_type": "markdown",
   "id": "84d454f9",
   "metadata": {},
   "source": [
    "### Multiple variables and second derivative"
   ]
  },
  {
   "cell_type": "code",
   "execution_count": 118,
   "id": "e6e54d49",
   "metadata": {},
   "outputs": [],
   "source": [
    "dep_var_0 = torch.tensor([6.0], requires_grad=True)\n",
    "dep_var_1 = torch.tensor([-2.0], requires_grad=True)"
   ]
  },
  {
   "cell_type": "code",
   "execution_count": 119,
   "id": "8194eee3",
   "metadata": {},
   "outputs": [
    {
     "data": {
      "text/plain": [
       "tensor([-0.7005])"
      ]
     },
     "execution_count": 119,
     "metadata": {},
     "output_type": "execute_result"
    }
   ],
   "source": [
    "data = torch.randn(1)\n",
    "data"
   ]
  },
  {
   "cell_type": "code",
   "execution_count": 120,
   "id": "45d71872",
   "metadata": {},
   "outputs": [
    {
     "data": {
      "text/plain": [
       "tensor([4.2850], grad_fn=<AddBackward0>)"
      ]
     },
     "execution_count": 120,
     "metadata": {},
     "output_type": "execute_result"
    }
   ],
   "source": [
    "value = (dep_var_0**data)+dep_var_1.square()\n",
    "value"
   ]
  },
  {
   "cell_type": "markdown",
   "id": "d5fd7bbc",
   "metadata": {},
   "source": [
    "To differentiate w.r.t. multiple variables, include them as a tuple in the inputs. The `retain_graph` argument allows us to to recompute the gradient, if necessary, and the `create_graph` argument makes the output also have a `grad_fn`, is applicable."
   ]
  },
  {
   "cell_type": "code",
   "execution_count": 121,
   "id": "78d8346e",
   "metadata": {},
   "outputs": [
    {
     "data": {
      "text/plain": [
       "(tensor([-0.0333], grad_fn=<WhereBackward0>),\n",
       " tensor([-4.], grad_fn=<MulBackward0>))"
      ]
     },
     "execution_count": 121,
     "metadata": {},
     "output_type": "execute_result"
    }
   ],
   "source": [
    "jac = grad(outputs=value, inputs=(dep_var_0, dep_var_1), retain_graph=0, create_graph=True)\n",
    "jac"
   ]
  },
  {
   "cell_type": "markdown",
   "id": "3379409d",
   "metadata": {},
   "source": [
    "Since the gradient has a `grad_fn`, we can compute the second derivative, too. Note that we don't get the full Hessian matrix, though, only the diagonal."
   ]
  },
  {
   "cell_type": "code",
   "execution_count": 122,
   "id": "e3bc9b95",
   "metadata": {},
   "outputs": [
    {
     "data": {
      "text/plain": [
       "(tensor([0.0094], grad_fn=<WhereBackward0>),\n",
       " tensor([2.], grad_fn=<MulBackward0>))"
      ]
     },
     "execution_count": 122,
     "metadata": {},
     "output_type": "execute_result"
    }
   ],
   "source": [
    "grad(outputs=jac, inputs=(dep_var_0, dep_var_1), retain_graph=True, create_graph=True)"
   ]
  },
  {
   "cell_type": "markdown",
   "id": "18e8888e",
   "metadata": {},
   "source": [
    "#### Full Hessian\n",
    "\n",
    "If you know that you'll be later computing the Hessian, or even just Jacobians, I find it best to have all the dependent variables in a single Tensor:"
   ]
  },
  {
   "cell_type": "code",
   "execution_count": 123,
   "id": "270159c4",
   "metadata": {},
   "outputs": [],
   "source": [
    "dep_vars = torch.tensor([6.0, -2.0], requires_grad=True)"
   ]
  },
  {
   "cell_type": "code",
   "execution_count": 124,
   "id": "a9f91b3c",
   "metadata": {},
   "outputs": [
    {
     "data": {
      "text/plain": [
       "tensor([4.2850], grad_fn=<AddBackward0>)"
      ]
     },
     "execution_count": 124,
     "metadata": {},
     "output_type": "execute_result"
    }
   ],
   "source": [
    "value = (dep_vars[0]**data)+dep_vars[1].square()\n",
    "value"
   ]
  },
  {
   "cell_type": "markdown",
   "id": "6286249b",
   "metadata": {},
   "source": [
    "We compute the Jacobian as normal. This now returns the Jacobian in a single tensor, rather than a tuple of tensors."
   ]
  },
  {
   "cell_type": "code",
   "execution_count": 125,
   "id": "8b596f74",
   "metadata": {},
   "outputs": [
    {
     "data": {
      "text/plain": [
       "(tensor([-0.0333, -4.0000], grad_fn=<AddBackward0>),)"
      ]
     },
     "execution_count": 125,
     "metadata": {},
     "output_type": "execute_result"
    }
   ],
   "source": [
    "jac = grad(outputs=value, inputs=dep_vars, retain_graph=True, create_graph=True)\n",
    "jac"
   ]
  },
  {
   "cell_type": "markdown",
   "id": "7372b58a",
   "metadata": {},
   "source": [
    "Now we try to compute the Hessian:"
   ]
  },
  {
   "cell_type": "code",
   "execution_count": 126,
   "id": "a58fc079",
   "metadata": {},
   "outputs": [
    {
     "ename": "RuntimeError",
     "evalue": "grad can be implicitly created only for scalar outputs",
     "output_type": "error",
     "traceback": [
      "\u001b[0;31m---------------------------------------------------------------------------\u001b[0m",
      "\u001b[0;31mRuntimeError\u001b[0m                              Traceback (most recent call last)",
      "Cell \u001b[0;32mIn [126], line 1\u001b[0m\n\u001b[0;32m----> 1\u001b[0m \u001b[43mgrad\u001b[49m\u001b[43m(\u001b[49m\u001b[43moutputs\u001b[49m\u001b[38;5;241;43m=\u001b[39;49m\u001b[43mjac\u001b[49m\u001b[43m,\u001b[49m\u001b[43m \u001b[49m\u001b[43minputs\u001b[49m\u001b[38;5;241;43m=\u001b[39;49m\u001b[43mdep_vars\u001b[49m\u001b[43m,\u001b[49m\u001b[43m \u001b[49m\u001b[43mretain_graph\u001b[49m\u001b[38;5;241;43m=\u001b[39;49m\u001b[38;5;28;43;01mTrue\u001b[39;49;00m\u001b[43m,\u001b[49m\u001b[43m \u001b[49m\u001b[43mcreate_graph\u001b[49m\u001b[38;5;241;43m=\u001b[39;49m\u001b[38;5;28;43;01mTrue\u001b[39;49;00m\u001b[43m)\u001b[49m\n",
      "File \u001b[0;32m~/anaconda3/envs/pytorch_tutorial_2022/lib/python3.8/site-packages/torch/autograd/__init__.py:285\u001b[0m, in \u001b[0;36mgrad\u001b[0;34m(outputs, inputs, grad_outputs, retain_graph, create_graph, only_inputs, allow_unused, is_grads_batched)\u001b[0m\n\u001b[1;32m    280\u001b[0m     warnings\u001b[38;5;241m.\u001b[39mwarn(\u001b[38;5;124m\"\u001b[39m\u001b[38;5;124monly_inputs argument is deprecated and is ignored now \u001b[39m\u001b[38;5;124m\"\u001b[39m\n\u001b[1;32m    281\u001b[0m                   \u001b[38;5;124m\"\u001b[39m\u001b[38;5;124m(defaults to True). To accumulate gradient for other \u001b[39m\u001b[38;5;124m\"\u001b[39m\n\u001b[1;32m    282\u001b[0m                   \u001b[38;5;124m\"\u001b[39m\u001b[38;5;124mparts of the graph, please use torch.autograd.backward.\u001b[39m\u001b[38;5;124m\"\u001b[39m)\n\u001b[1;32m    284\u001b[0m grad_outputs_ \u001b[38;5;241m=\u001b[39m _tensor_or_tensors_to_tuple(grad_outputs, \u001b[38;5;28mlen\u001b[39m(t_outputs))\n\u001b[0;32m--> 285\u001b[0m grad_outputs_ \u001b[38;5;241m=\u001b[39m \u001b[43m_make_grads\u001b[49m\u001b[43m(\u001b[49m\u001b[43mt_outputs\u001b[49m\u001b[43m,\u001b[49m\u001b[43m \u001b[49m\u001b[43mgrad_outputs_\u001b[49m\u001b[43m,\u001b[49m\u001b[43m \u001b[49m\u001b[43mis_grads_batched\u001b[49m\u001b[38;5;241;43m=\u001b[39;49m\u001b[43mis_grads_batched\u001b[49m\u001b[43m)\u001b[49m\n\u001b[1;32m    287\u001b[0m \u001b[38;5;28;01mif\u001b[39;00m retain_graph \u001b[38;5;129;01mis\u001b[39;00m \u001b[38;5;28;01mNone\u001b[39;00m:\n\u001b[1;32m    288\u001b[0m     retain_graph \u001b[38;5;241m=\u001b[39m create_graph\n",
      "File \u001b[0;32m~/anaconda3/envs/pytorch_tutorial_2022/lib/python3.8/site-packages/torch/autograd/__init__.py:85\u001b[0m, in \u001b[0;36m_make_grads\u001b[0;34m(outputs, grads, is_grads_batched)\u001b[0m\n\u001b[1;32m     83\u001b[0m \u001b[38;5;28;01mif\u001b[39;00m out\u001b[38;5;241m.\u001b[39mrequires_grad:\n\u001b[1;32m     84\u001b[0m     \u001b[38;5;28;01mif\u001b[39;00m out\u001b[38;5;241m.\u001b[39mnumel() \u001b[38;5;241m!=\u001b[39m \u001b[38;5;241m1\u001b[39m:\n\u001b[0;32m---> 85\u001b[0m         \u001b[38;5;28;01mraise\u001b[39;00m \u001b[38;5;167;01mRuntimeError\u001b[39;00m(\u001b[38;5;124m\"\u001b[39m\u001b[38;5;124mgrad can be implicitly created only for scalar outputs\u001b[39m\u001b[38;5;124m\"\u001b[39m)\n\u001b[1;32m     86\u001b[0m     new_grads\u001b[38;5;241m.\u001b[39mappend(torch\u001b[38;5;241m.\u001b[39mones_like(out, memory_format\u001b[38;5;241m=\u001b[39mtorch\u001b[38;5;241m.\u001b[39mpreserve_format))\n\u001b[1;32m     87\u001b[0m \u001b[38;5;28;01melse\u001b[39;00m:\n",
      "\u001b[0;31mRuntimeError\u001b[0m: grad can be implicitly created only for scalar outputs"
     ]
    }
   ],
   "source": [
    "grad(outputs=jac, inputs=dep_vars, retain_graph=True, create_graph=True)"
   ]
  },
  {
   "cell_type": "markdown",
   "id": "a952b922",
   "metadata": {},
   "source": [
    "Oh dear! The output needs to be a single value, and we provided two values. Instead we can supply each value in turn:"
   ]
  },
  {
   "cell_type": "code",
   "execution_count": 131,
   "id": "a81e19fb",
   "metadata": {},
   "outputs": [
    {
     "data": {
      "text/plain": [
       "((tensor([0.0094, 0.0000], grad_fn=<AddBackward0>),),\n",
       " (tensor([0., 2.], grad_fn=<AddBackward0>),))"
      ]
     },
     "execution_count": 131,
     "metadata": {},
     "output_type": "execute_result"
    }
   ],
   "source": [
    "grad(outputs=jac[0][0], inputs=dep_vars, retain_graph=True, create_graph=True), grad(outputs=jac[0][1], inputs=dep_vars, retain_graph=True, create_graph=True)"
   ]
  },
  {
   "cell_type": "markdown",
   "id": "d119d783",
   "metadata": {},
   "source": [
    "So now we get the full Hessian matrix. (In this case the off-diagonals were zero, but they might not always be)"
   ]
  },
  {
   "cell_type": "markdown",
   "id": "8e30a926",
   "metadata": {},
   "source": [
    "## Batched gradients and better Hessians\n",
    "We already saw that the `grad` function has trouble dealing with non-scalar outputs, which meant we needed to call it twice and get a tuple. A more general way to do this, would be to iterate over each element of the Jacobian and stack the Hessian rows into a tensor:"
   ]
  },
  {
   "cell_type": "code",
   "execution_count": 155,
   "id": "326a736f",
   "metadata": {},
   "outputs": [
    {
     "data": {
      "text/plain": [
       "tensor([[0.0094, 0.0000],\n",
       "        [0.0000, 2.0000]], grad_fn=<StackBackward0>)"
      ]
     },
     "execution_count": 155,
     "metadata": {},
     "output_type": "execute_result"
    }
   ],
   "source": [
    "torch.stack([grad(outputs=j, inputs=dep_vars, retain_graph=True, create_graph=True)[0] for j in jac[0].unbind(0)])  # unbind alows us to iterate through the tensor along the specified dimension"
   ]
  },
  {
   "cell_type": "code",
   "execution_count": 154,
   "id": "ce225e20",
   "metadata": {},
   "outputs": [
    {
     "name": "stdout",
     "output_type": "stream",
     "text": [
      "256 µs ± 8.49 µs per loop (mean ± std. dev. of 7 runs, 1,000 loops each)\n"
     ]
    }
   ],
   "source": [
    "%%timeit\n",
    "torch.stack([grad(outputs=j, inputs=dep_vars, retain_graph=True, create_graph=True)[0] for j in jac[0].unbind(0)])  # unbind alows us to iterate through the tensor along the specified dimension"
   ]
  },
  {
   "cell_type": "markdown",
   "id": "bb15c138",
   "metadata": {},
   "source": [
    "A slightly quicker way is to still feed in the full Jacobian, but use the `grad_outputs` to *switch on* which element we want to differentiate. `torch.eye` creates an identity matrix of a given size, and iterating through it will provide one-hot vectors."
   ]
  },
  {
   "cell_type": "code",
   "execution_count": 156,
   "id": "a59e66d0",
   "metadata": {},
   "outputs": [
    {
     "data": {
      "text/plain": [
       "tensor([[1., 0.],\n",
       "        [0., 1.]])"
      ]
     },
     "execution_count": 156,
     "metadata": {},
     "output_type": "execute_result"
    }
   ],
   "source": [
    "torch.eye(len(jac[0]))"
   ]
  },
  {
   "cell_type": "code",
   "execution_count": 158,
   "id": "baccbcb8",
   "metadata": {},
   "outputs": [
    {
     "data": {
      "text/plain": [
       "tensor([[0.0094, 0.0000],\n",
       "        [0.0000, 2.0000]], grad_fn=<StackBackward0>)"
      ]
     },
     "execution_count": 158,
     "metadata": {},
     "output_type": "execute_result"
    }
   ],
   "source": [
    "torch.stack([grad(outputs=jac[0], inputs=dep_vars, grad_outputs=i, retain_graph=True, create_graph=True)[0] for i in torch.eye(len(jac[0])).unbind(0)])"
   ]
  },
  {
   "cell_type": "code",
   "execution_count": 157,
   "id": "df7f4931",
   "metadata": {},
   "outputs": [
    {
     "name": "stdout",
     "output_type": "stream",
     "text": [
      "235 µs ± 7.29 µs per loop (mean ± std. dev. of 7 runs, 1,000 loops each)\n"
     ]
    }
   ],
   "source": [
    "%%timeit \n",
    "torch.stack([grad(outputs=jac[0], inputs=dep_vars, grad_outputs=i, retain_graph=True, create_graph=True)[0] for i in torch.eye(len(jac[0])).unbind(0)])"
   ]
  },
  {
   "cell_type": "markdown",
   "id": "ab46b4ae",
   "metadata": {},
   "source": [
    "### Vectorised method\n",
    "The above method works, but still relies on a python for-loop to provide serial calls to `grad`. It would be better to instead perform all calls in parallel. We can do this using the PyTorch vmap function, although it is still experimental.\n",
    "\n",
    "`vmap` takes a function and a set of input arguments and will implicitly compute the function values by unbinding the inputs, and will then stack the results to a tensor:"
   ]
  },
  {
   "cell_type": "code",
   "execution_count": 159,
   "id": "e5daa418",
   "metadata": {},
   "outputs": [],
   "source": [
    "from torch._vmap_internals import _vmap as vmap"
   ]
  },
  {
   "cell_type": "code",
   "execution_count": 161,
   "id": "851c7d99",
   "metadata": {},
   "outputs": [
    {
     "data": {
      "text/plain": [
       "tensor([[0.0094, 0.0000],\n",
       "        [0.0000, 2.0000]], grad_fn=<AddBackward0>)"
      ]
     },
     "execution_count": 161,
     "metadata": {},
     "output_type": "execute_result"
    }
   ],
   "source": [
    "vmap(lambda i: grad(outputs=jac[0], inputs=dep_vars, grad_outputs=i, retain_graph=True, create_graph=True)[0])(torch.eye(len(jac[0])))"
   ]
  },
  {
   "cell_type": "code",
   "execution_count": 160,
   "id": "b4aee8e7",
   "metadata": {},
   "outputs": [
    {
     "name": "stdout",
     "output_type": "stream",
     "text": [
      "213 µs ± 6.25 µs per loop (mean ± std. dev. of 7 runs, 1,000 loops each)\n"
     ]
    }
   ],
   "source": [
    "%%timeit\n",
    "vmap(lambda i: grad(outputs=jac[0], inputs=dep_vars, grad_outputs=i, retain_graph=True, create_graph=True)[0])(torch.eye(len(jac[0])))"
   ]
  },
  {
   "cell_type": "markdown",
   "id": "d1a7ba6b",
   "metadata": {},
   "source": [
    "### Batched gradients\n",
    "The \"non-scalar output\" issue doesn't just apply to Hessians, what if we want to efficiently differentiate a batch of items independently?"
   ]
  },
  {
   "cell_type": "code",
   "execution_count": 168,
   "id": "c45357f6",
   "metadata": {},
   "outputs": [],
   "source": [
    "dep_vars = torch.tensor([6.0, -2.0], requires_grad=True)"
   ]
  },
  {
   "cell_type": "code",
   "execution_count": 176,
   "id": "22bd7ce7",
   "metadata": {},
   "outputs": [],
   "source": [
    "data = torch.rand(10,2)"
   ]
  },
  {
   "cell_type": "code",
   "execution_count": 177,
   "id": "4aa04af0",
   "metadata": {},
   "outputs": [
    {
     "data": {
      "text/plain": [
       "tensor([[7.8651, 9.1787],\n",
       "        [7.4021, 5.5802],\n",
       "        [5.9790, 5.4469],\n",
       "        [8.6321, 5.3500],\n",
       "        [7.2844, 9.0974],\n",
       "        [5.0533, 5.3217],\n",
       "        [9.9660, 5.9545],\n",
       "        [6.8146, 7.7673],\n",
       "        [5.7039, 8.3140],\n",
       "        [8.2068, 9.7840]], grad_fn=<AddBackward0>)"
      ]
     },
     "execution_count": 177,
     "metadata": {},
     "output_type": "execute_result"
    }
   ],
   "source": [
    "values = (dep_vars[0]**data)+dep_vars[1].square()\n",
    "values"
   ]
  },
  {
   "cell_type": "code",
   "execution_count": 178,
   "id": "2494440f",
   "metadata": {},
   "outputs": [
    {
     "ename": "RuntimeError",
     "evalue": "grad can be implicitly created only for scalar outputs",
     "output_type": "error",
     "traceback": [
      "\u001b[0;31m---------------------------------------------------------------------------\u001b[0m",
      "\u001b[0;31mRuntimeError\u001b[0m                              Traceback (most recent call last)",
      "Cell \u001b[0;32mIn [178], line 1\u001b[0m\n\u001b[0;32m----> 1\u001b[0m \u001b[43mgrad\u001b[49m\u001b[43m(\u001b[49m\u001b[43moutputs\u001b[49m\u001b[38;5;241;43m=\u001b[39;49m\u001b[43mvalues\u001b[49m\u001b[43m,\u001b[49m\u001b[43m \u001b[49m\u001b[43minputs\u001b[49m\u001b[38;5;241;43m=\u001b[39;49m\u001b[43mdep_vars\u001b[49m\u001b[43m,\u001b[49m\u001b[43m \u001b[49m\u001b[43mretain_graph\u001b[49m\u001b[38;5;241;43m=\u001b[39;49m\u001b[38;5;28;43;01mTrue\u001b[39;49;00m\u001b[43m,\u001b[49m\u001b[43m \u001b[49m\u001b[43mcreate_graph\u001b[49m\u001b[38;5;241;43m=\u001b[39;49m\u001b[38;5;28;43;01mTrue\u001b[39;49;00m\u001b[43m)\u001b[49m\n",
      "File \u001b[0;32m~/anaconda3/envs/pytorch_tutorial_2022/lib/python3.8/site-packages/torch/autograd/__init__.py:285\u001b[0m, in \u001b[0;36mgrad\u001b[0;34m(outputs, inputs, grad_outputs, retain_graph, create_graph, only_inputs, allow_unused, is_grads_batched)\u001b[0m\n\u001b[1;32m    280\u001b[0m     warnings\u001b[38;5;241m.\u001b[39mwarn(\u001b[38;5;124m\"\u001b[39m\u001b[38;5;124monly_inputs argument is deprecated and is ignored now \u001b[39m\u001b[38;5;124m\"\u001b[39m\n\u001b[1;32m    281\u001b[0m                   \u001b[38;5;124m\"\u001b[39m\u001b[38;5;124m(defaults to True). To accumulate gradient for other \u001b[39m\u001b[38;5;124m\"\u001b[39m\n\u001b[1;32m    282\u001b[0m                   \u001b[38;5;124m\"\u001b[39m\u001b[38;5;124mparts of the graph, please use torch.autograd.backward.\u001b[39m\u001b[38;5;124m\"\u001b[39m)\n\u001b[1;32m    284\u001b[0m grad_outputs_ \u001b[38;5;241m=\u001b[39m _tensor_or_tensors_to_tuple(grad_outputs, \u001b[38;5;28mlen\u001b[39m(t_outputs))\n\u001b[0;32m--> 285\u001b[0m grad_outputs_ \u001b[38;5;241m=\u001b[39m \u001b[43m_make_grads\u001b[49m\u001b[43m(\u001b[49m\u001b[43mt_outputs\u001b[49m\u001b[43m,\u001b[49m\u001b[43m \u001b[49m\u001b[43mgrad_outputs_\u001b[49m\u001b[43m,\u001b[49m\u001b[43m \u001b[49m\u001b[43mis_grads_batched\u001b[49m\u001b[38;5;241;43m=\u001b[39;49m\u001b[43mis_grads_batched\u001b[49m\u001b[43m)\u001b[49m\n\u001b[1;32m    287\u001b[0m \u001b[38;5;28;01mif\u001b[39;00m retain_graph \u001b[38;5;129;01mis\u001b[39;00m \u001b[38;5;28;01mNone\u001b[39;00m:\n\u001b[1;32m    288\u001b[0m     retain_graph \u001b[38;5;241m=\u001b[39m create_graph\n",
      "File \u001b[0;32m~/anaconda3/envs/pytorch_tutorial_2022/lib/python3.8/site-packages/torch/autograd/__init__.py:85\u001b[0m, in \u001b[0;36m_make_grads\u001b[0;34m(outputs, grads, is_grads_batched)\u001b[0m\n\u001b[1;32m     83\u001b[0m \u001b[38;5;28;01mif\u001b[39;00m out\u001b[38;5;241m.\u001b[39mrequires_grad:\n\u001b[1;32m     84\u001b[0m     \u001b[38;5;28;01mif\u001b[39;00m out\u001b[38;5;241m.\u001b[39mnumel() \u001b[38;5;241m!=\u001b[39m \u001b[38;5;241m1\u001b[39m:\n\u001b[0;32m---> 85\u001b[0m         \u001b[38;5;28;01mraise\u001b[39;00m \u001b[38;5;167;01mRuntimeError\u001b[39;00m(\u001b[38;5;124m\"\u001b[39m\u001b[38;5;124mgrad can be implicitly created only for scalar outputs\u001b[39m\u001b[38;5;124m\"\u001b[39m)\n\u001b[1;32m     86\u001b[0m     new_grads\u001b[38;5;241m.\u001b[39mappend(torch\u001b[38;5;241m.\u001b[39mones_like(out, memory_format\u001b[38;5;241m=\u001b[39mtorch\u001b[38;5;241m.\u001b[39mpreserve_format))\n\u001b[1;32m     87\u001b[0m \u001b[38;5;28;01melse\u001b[39;00m:\n",
      "\u001b[0;31mRuntimeError\u001b[0m: grad can be implicitly created only for scalar outputs"
     ]
    }
   ],
   "source": [
    "grad(outputs=values, inputs=dep_vars, retain_graph=True, create_graph=True)"
   ]
  },
  {
   "cell_type": "markdown",
   "id": "1a6ea09a",
   "metadata": {},
   "source": [
    "The trick is to reuse our vmap'd Jacobian, however even if we iterate over each row of the output values, it still isn't a scalar value; we need iterate over each element.\n",
    "\n",
    "Rather than having the iteration adapt to every possible output shape, it is instead more convenient to write a generalised Jacobian function that works for any shape, by flattening and reshaping the inputs."
   ]
  },
  {
   "cell_type": "code",
   "execution_count": 179,
   "id": "571ea147",
   "metadata": {},
   "outputs": [],
   "source": [
    "def jacobian(y: Tensor, x: Tensor, create_graph: bool = False, allow_unused: bool = True) -> Tensor:\n",
    "    r\"\"\"\n",
    "    Computes the Jacobian (dy/dx) of y with respect to variables x. x and y can have multiple elements.\n",
    "    If y has multiple elements then computation is vectorised via vmap.\n",
    "\n",
    "    Arguments:\n",
    "        y: tensor to be differentiated\n",
    "        x: dependent variables\n",
    "        create_graph: If True, graph of the derivative will\n",
    "            be constructed, allowing to compute higher order derivative products.\n",
    "            Default: False.\n",
    "        allow_unused: If False, specifying inputs that were not\n",
    "            used when computing outputs (and therefore their grad is always\n",
    "\n",
    "    Returns:\n",
    "        dy/dx tensor of shape y.shape+x.shape\n",
    "    \"\"\"\n",
    "\n",
    "    if len(y) == 0:\n",
    "        return None\n",
    "    flat_y = y.reshape(-1)\n",
    "\n",
    "    def get_vjp(v: Tensor) -> Tensor:\n",
    "        return torch.autograd.grad(flat_y, x, v, retain_graph=True, create_graph=create_graph, allow_unused=allow_unused)[0].reshape(x.shape)\n",
    "\n",
    "    return vmap(get_vjp)(torch.eye(len(flat_y), device=y.device)).reshape(y.shape + x.shape)"
   ]
  },
  {
   "cell_type": "code",
   "execution_count": 180,
   "id": "750f335c",
   "metadata": {},
   "outputs": [
    {
     "data": {
      "text/plain": [
       "tensor([[[ 0.4861, -4.0000],\n",
       "         [ 0.7922, -4.0000]],\n",
       "\n",
       "        [[ 0.3875, -4.0000],\n",
       "         [ 0.0673, -4.0000]],\n",
       "\n",
       "        [[ 0.1257, -4.0000],\n",
       "         [ 0.0497, -4.0000]],\n",
       "\n",
       "        [[ 0.6605, -4.0000],\n",
       "         [ 0.0377, -4.0000]],\n",
       "\n",
       "        [[ 0.3633, -4.0000],\n",
       "         [ 0.7723, -4.0000]],\n",
       "\n",
       "        [[ 0.0051, -4.0000],\n",
       "         [ 0.0343, -4.0000]],\n",
       "\n",
       "        [[ 0.9912, -4.0000],\n",
       "         [ 0.1218, -4.0000]],\n",
       "\n",
       "        [[ 0.2709, -4.0000],\n",
       "         [ 0.4648, -4.0000]],\n",
       "\n",
       "        [[ 0.0845, -4.0000],\n",
       "         [ 0.5866, -4.0000]],\n",
       "\n",
       "        [[ 0.5622, -4.0000],\n",
       "         [ 0.9443, -4.0000]]])"
      ]
     },
     "execution_count": 180,
     "metadata": {},
     "output_type": "execute_result"
    }
   ],
   "source": [
    "jacobian(values, dep_vars)"
   ]
  },
  {
   "cell_type": "markdown",
   "id": "6084a908",
   "metadata": {},
   "source": [
    "This gives us the Jacobian of every element"
   ]
  },
  {
   "cell_type": "markdown",
   "id": "347677c2",
   "metadata": {},
   "source": [
    "## No-grad contexts\n",
    "Calculations performed involving tensors with gradient incur an increased cost in terms of time and memory. In cases where gradient tracking isn't required, the context manager `no_grad` may be used:"
   ]
  },
  {
   "cell_type": "code",
   "execution_count": 168,
   "id": "75b1d7d7",
   "metadata": {},
   "outputs": [],
   "source": [
    "dep_vars = torch.tensor([6.0, -2.0], requires_grad=True)"
   ]
  },
  {
   "cell_type": "code",
   "execution_count": 176,
   "id": "3c38ec92",
   "metadata": {},
   "outputs": [],
   "source": [
    "data = torch.rand(10,2)"
   ]
  },
  {
   "cell_type": "code",
   "execution_count": 187,
   "id": "86c38851",
   "metadata": {},
   "outputs": [
    {
     "name": "stdout",
     "output_type": "stream",
     "text": [
      "14.3 µs ± 309 ns per loop (mean ± std. dev. of 7 runs, 100,000 loops each)\n"
     ]
    }
   ],
   "source": [
    "%%timeit\n",
    "(dep_vars[0]**data)+dep_vars[1].square()"
   ]
  },
  {
   "cell_type": "code",
   "execution_count": 191,
   "id": "7e678e21",
   "metadata": {},
   "outputs": [
    {
     "name": "stdout",
     "output_type": "stream",
     "text": [
      "10.2 µs ± 47.5 ns per loop (mean ± std. dev. of 7 runs, 100,000 loops each)\n"
     ]
    }
   ],
   "source": [
    "%%timeit\n",
    "with torch.no_grad():\n",
    "    (dep_vars[0]**data)+dep_vars[1].square()"
   ]
  },
  {
   "cell_type": "markdown",
   "id": "da929ae0",
   "metadata": {},
   "source": [
    "The `inference_mode` context is even more performant:"
   ]
  },
  {
   "cell_type": "code",
   "execution_count": 192,
   "id": "ff0d4149",
   "metadata": {},
   "outputs": [
    {
     "name": "stdout",
     "output_type": "stream",
     "text": [
      "9.71 µs ± 59.5 ns per loop (mean ± std. dev. of 7 runs, 100,000 loops each)\n"
     ]
    }
   ],
   "source": [
    "%%timeit\n",
    "with torch.inference_mode():\n",
    "    (dep_vars[0]**data)+dep_vars[1].square()"
   ]
  },
  {
   "cell_type": "markdown",
   "id": "ae25e0a0",
   "metadata": {},
   "source": [
    "## Modifying tensor with gradient\n",
    "Once a tensor is set to have gradient, in-place modifications to it will result in an exception."
   ]
  },
  {
   "cell_type": "code",
   "execution_count": null,
   "id": "be5123c8",
   "metadata": {},
   "outputs": [],
   "source": []
  }
 ],
 "metadata": {
  "kernelspec": {
   "display_name": "Python [conda env:pytorch_tutorial_2022]",
   "language": "python",
   "name": "conda-env-pytorch_tutorial_2022-py"
  },
  "language_info": {
   "codemirror_mode": {
    "name": "ipython",
    "version": 3
   },
   "file_extension": ".py",
   "mimetype": "text/x-python",
   "name": "python",
   "nbconvert_exporter": "python",
   "pygments_lexer": "ipython3",
   "version": "3.8.0"
  },
  "toc": {
   "base_numbering": 1,
   "nav_menu": {},
   "number_sections": true,
   "sideBar": true,
   "skip_h1_title": false,
   "title_cell": "Table of Contents",
   "title_sidebar": "Contents",
   "toc_cell": false,
   "toc_position": {},
   "toc_section_display": true,
   "toc_window_display": false
  }
 },
 "nbformat": 4,
 "nbformat_minor": 5
}
