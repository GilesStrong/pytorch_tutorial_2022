{
 "cells": [
  {
   "cell_type": "code",
   "execution_count": null,
   "id": "ccc4e6a6",
   "metadata": {},
   "outputs": [],
   "source": [
    "%matplotlib inline\n",
    "%reload_ext autoreload\n",
    "%autoreload 2"
   ]
  },
  {
   "cell_type": "code",
   "execution_count": null,
   "id": "75c92a08",
   "metadata": {},
   "outputs": [],
   "source": [
    "import torch\n",
    "from torch import Tensor"
   ]
  },
  {
   "cell_type": "markdown",
   "id": "2804cbf5",
   "metadata": {},
   "source": [
    "In this set of exercises, we will consider recorded hits for muon positions along a single dimension. The recorded positions suffer from finite resolution and so carry an uncertainty. The recorded positions (hits) are then used to compute a variable per muon. You will need to compute the uncertainty on this value due to the finite resolution."
   ]
  },
  {
   "cell_type": "markdown",
   "id": "7c767c23",
   "metadata": {},
   "source": [
    "## Set up\n",
    "First we want to set up our resolution. This should be a single-element tensor, called `resolution`, with a value of 100.0, that requires gradient:"
   ]
  },
  {
   "cell_type": "code",
   "execution_count": null,
   "id": "9e40b309",
   "metadata": {},
   "outputs": [],
   "source": [
    "# your code goes here"
   ]
  },
  {
   "cell_type": "code",
   "execution_count": null,
   "id": "56f9a3c3",
   "metadata": {},
   "outputs": [],
   "source": [
    "assert resolution == 1e2\n",
    "assert resolution.requires_grad"
   ]
  },
  {
   "cell_type": "markdown",
   "id": "2eb3a286",
   "metadata": {},
   "source": [
    "Now we want to take the true positions of the muons, `true_x`, and perturb them with the resolution. We assume that the resolution error contributes as a Gaussian:"
   ]
  },
  {
   "cell_type": "code",
   "execution_count": null,
   "id": "9a9d87fb",
   "metadata": {},
   "outputs": [],
   "source": [
    "true_x = torch.rand(100,1)"
   ]
  },
  {
   "cell_type": "code",
   "execution_count": null,
   "id": "f3fb3318",
   "metadata": {},
   "outputs": [],
   "source": [
    "reco_x = true_x+(torch.randn_like(true_x)/resolution)\n",
    "reco_x[:10]"
   ]
  },
  {
   "cell_type": "markdown",
   "id": "b243b8d2",
   "metadata": {},
   "source": [
    "Below is the function that will compute the variable from the the recorded hits:"
   ]
  },
  {
   "cell_type": "code",
   "execution_count": null,
   "id": "bb9b15e4",
   "metadata": {},
   "outputs": [],
   "source": [
    "def infer_theta(reco_hits:Tensor) -> Tensor:\n",
    "    dz = 1.5\n",
    "    theta = torch.arctan(reco_hits.abs()/dz)\n",
    "    return theta"
   ]
  },
  {
   "cell_type": "code",
   "execution_count": null,
   "id": "7a01530a",
   "metadata": {},
   "outputs": [],
   "source": [
    "theta = infer_theta(reco_x)"
   ]
  },
  {
   "cell_type": "code",
   "execution_count": null,
   "id": "290aab51",
   "metadata": {},
   "outputs": [],
   "source": [
    "theta[:10]"
   ]
  },
  {
   "cell_type": "markdown",
   "id": "62462d77",
   "metadata": {},
   "source": [
    "## Uncertainty\n",
    "The uncertainty propagation formula for one dependent variable ($x$) is:\n",
    "$$\\sigma_y = \\frac{\\partial y}{\\partial x}\\sigma_x$$\n",
    "\n",
    "Below, implement this formula and compute the uncertainty on the inferred theta angle for every muon."
   ]
  },
  {
   "cell_type": "code",
   "execution_count": null,
   "id": "668b239e",
   "metadata": {},
   "outputs": [],
   "source": [
    "# your code goes here"
   ]
  }
 ],
 "metadata": {
  "kernelspec": {
   "display_name": "Python [conda env:pytorch_tutorial_2022]",
   "language": "python",
   "name": "conda-env-pytorch_tutorial_2022-py"
  },
  "language_info": {
   "codemirror_mode": {
    "name": "ipython",
    "version": 3
   },
   "file_extension": ".py",
   "mimetype": "text/x-python",
   "name": "python",
   "nbconvert_exporter": "python",
   "pygments_lexer": "ipython3",
   "version": "3.8.0"
  },
  "toc": {
   "base_numbering": 1,
   "nav_menu": {},
   "number_sections": true,
   "sideBar": true,
   "skip_h1_title": false,
   "title_cell": "Table of Contents",
   "title_sidebar": "Contents",
   "toc_cell": false,
   "toc_position": {},
   "toc_section_display": true,
   "toc_window_display": false
  }
 },
 "nbformat": 4,
 "nbformat_minor": 5
}
